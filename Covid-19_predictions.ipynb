{
 "cells": [
  {
   "cell_type": "code",
   "execution_count": 1,
   "id": "734aa508",
   "metadata": {},
   "outputs": [],
   "source": [
    "# Modelling objective: To predict if patient died as a result of Covid-19\n",
    "# Classification problem\n",
    "import numpy as np\n",
    "import pandas as pd\n",
    "import matplotlib.pyplot as plt\n",
    "import seaborn as sns"
   ]
  },
  {
   "cell_type": "code",
   "execution_count": 2,
   "id": "61fbc3e1",
   "metadata": {},
   "outputs": [],
   "source": [
    "%matplotlib inline"
   ]
  },
  {
   "cell_type": "code",
   "execution_count": 3,
   "id": "39109b5b",
   "metadata": {},
   "outputs": [],
   "source": [
    "# to import Covid-19 death dataset\n",
    "df = pd.read_csv('C:/Users/miche/Desktop/machine_learning/COVID-19_Case_Surveillance_Public_Use_Data.csv', low_memory=False)"
   ]
  },
  {
   "cell_type": "code",
   "execution_count": 4,
   "id": "017cafc6",
   "metadata": {},
   "outputs": [
    {
     "data": {
      "text/html": [
       "<div>\n",
       "<style scoped>\n",
       "    .dataframe tbody tr th:only-of-type {\n",
       "        vertical-align: middle;\n",
       "    }\n",
       "\n",
       "    .dataframe tbody tr th {\n",
       "        vertical-align: top;\n",
       "    }\n",
       "\n",
       "    .dataframe thead th {\n",
       "        text-align: right;\n",
       "    }\n",
       "</style>\n",
       "<table border=\"1\" class=\"dataframe\">\n",
       "  <thead>\n",
       "    <tr style=\"text-align: right;\">\n",
       "      <th></th>\n",
       "      <th>cdc_report_dt</th>\n",
       "      <th>pos_spec_dt</th>\n",
       "      <th>onset_dt</th>\n",
       "      <th>current_status</th>\n",
       "      <th>sex</th>\n",
       "      <th>age_group</th>\n",
       "      <th>Race and ethnicity (combined)</th>\n",
       "      <th>hosp_yn</th>\n",
       "      <th>icu_yn</th>\n",
       "      <th>death_yn</th>\n",
       "      <th>medcond_yn</th>\n",
       "    </tr>\n",
       "  </thead>\n",
       "  <tbody>\n",
       "    <tr>\n",
       "      <th>0</th>\n",
       "      <td>2020/11/10</td>\n",
       "      <td>2020/11/10</td>\n",
       "      <td>NaN</td>\n",
       "      <td>Laboratory-confirmed case</td>\n",
       "      <td>Male</td>\n",
       "      <td>10 - 19 Years</td>\n",
       "      <td>Black, Non-Hispanic</td>\n",
       "      <td>No</td>\n",
       "      <td>Unknown</td>\n",
       "      <td>No</td>\n",
       "      <td>No</td>\n",
       "    </tr>\n",
       "    <tr>\n",
       "      <th>1</th>\n",
       "      <td>2020/11/14</td>\n",
       "      <td>2020/11/10</td>\n",
       "      <td>2020/11/10</td>\n",
       "      <td>Laboratory-confirmed case</td>\n",
       "      <td>Male</td>\n",
       "      <td>10 - 19 Years</td>\n",
       "      <td>Black, Non-Hispanic</td>\n",
       "      <td>No</td>\n",
       "      <td>No</td>\n",
       "      <td>No</td>\n",
       "      <td>No</td>\n",
       "    </tr>\n",
       "    <tr>\n",
       "      <th>2</th>\n",
       "      <td>2020/11/19</td>\n",
       "      <td>2020/11/10</td>\n",
       "      <td>2020/11/09</td>\n",
       "      <td>Laboratory-confirmed case</td>\n",
       "      <td>Male</td>\n",
       "      <td>10 - 19 Years</td>\n",
       "      <td>Black, Non-Hispanic</td>\n",
       "      <td>No</td>\n",
       "      <td>No</td>\n",
       "      <td>No</td>\n",
       "      <td>No</td>\n",
       "    </tr>\n",
       "    <tr>\n",
       "      <th>3</th>\n",
       "      <td>2020/11/14</td>\n",
       "      <td>2020/11/10</td>\n",
       "      <td>NaN</td>\n",
       "      <td>Laboratory-confirmed case</td>\n",
       "      <td>Male</td>\n",
       "      <td>10 - 19 Years</td>\n",
       "      <td>Black, Non-Hispanic</td>\n",
       "      <td>Missing</td>\n",
       "      <td>Missing</td>\n",
       "      <td>No</td>\n",
       "      <td>Missing</td>\n",
       "    </tr>\n",
       "    <tr>\n",
       "      <th>4</th>\n",
       "      <td>2020/11/13</td>\n",
       "      <td>2020/11/10</td>\n",
       "      <td>2020/11/10</td>\n",
       "      <td>Laboratory-confirmed case</td>\n",
       "      <td>Male</td>\n",
       "      <td>10 - 19 Years</td>\n",
       "      <td>Black, Non-Hispanic</td>\n",
       "      <td>No</td>\n",
       "      <td>No</td>\n",
       "      <td>No</td>\n",
       "      <td>Yes</td>\n",
       "    </tr>\n",
       "    <tr>\n",
       "      <th>...</th>\n",
       "      <td>...</td>\n",
       "      <td>...</td>\n",
       "      <td>...</td>\n",
       "      <td>...</td>\n",
       "      <td>...</td>\n",
       "      <td>...</td>\n",
       "      <td>...</td>\n",
       "      <td>...</td>\n",
       "      <td>...</td>\n",
       "      <td>...</td>\n",
       "      <td>...</td>\n",
       "    </tr>\n",
       "    <tr>\n",
       "      <th>8405074</th>\n",
       "      <td>2020/10/22</td>\n",
       "      <td>NaN</td>\n",
       "      <td>NaN</td>\n",
       "      <td>Probable Case</td>\n",
       "      <td>Missing</td>\n",
       "      <td>30 - 39 Years</td>\n",
       "      <td>Unknown</td>\n",
       "      <td>No</td>\n",
       "      <td>Unknown</td>\n",
       "      <td>No</td>\n",
       "      <td>Missing</td>\n",
       "    </tr>\n",
       "    <tr>\n",
       "      <th>8405075</th>\n",
       "      <td>2020/10/25</td>\n",
       "      <td>NaN</td>\n",
       "      <td>NaN</td>\n",
       "      <td>Laboratory-confirmed case</td>\n",
       "      <td>Missing</td>\n",
       "      <td>30 - 39 Years</td>\n",
       "      <td>Unknown</td>\n",
       "      <td>Missing</td>\n",
       "      <td>Missing</td>\n",
       "      <td>Missing</td>\n",
       "      <td>Missing</td>\n",
       "    </tr>\n",
       "    <tr>\n",
       "      <th>8405076</th>\n",
       "      <td>2020/07/18</td>\n",
       "      <td>NaN</td>\n",
       "      <td>NaN</td>\n",
       "      <td>Laboratory-confirmed case</td>\n",
       "      <td>Missing</td>\n",
       "      <td>30 - 39 Years</td>\n",
       "      <td>Unknown</td>\n",
       "      <td>Missing</td>\n",
       "      <td>Missing</td>\n",
       "      <td>Missing</td>\n",
       "      <td>Missing</td>\n",
       "    </tr>\n",
       "    <tr>\n",
       "      <th>8405077</th>\n",
       "      <td>2020/11/19</td>\n",
       "      <td>NaN</td>\n",
       "      <td>NaN</td>\n",
       "      <td>Laboratory-confirmed case</td>\n",
       "      <td>Missing</td>\n",
       "      <td>30 - 39 Years</td>\n",
       "      <td>Unknown</td>\n",
       "      <td>Missing</td>\n",
       "      <td>Missing</td>\n",
       "      <td>Missing</td>\n",
       "      <td>Missing</td>\n",
       "    </tr>\n",
       "    <tr>\n",
       "      <th>8405078</th>\n",
       "      <td>2020/11/03</td>\n",
       "      <td>NaN</td>\n",
       "      <td>NaN</td>\n",
       "      <td>Laboratory-confirmed case</td>\n",
       "      <td>Missing</td>\n",
       "      <td>30 - 39 Years</td>\n",
       "      <td>Unknown</td>\n",
       "      <td>No</td>\n",
       "      <td>Unknown</td>\n",
       "      <td>No</td>\n",
       "      <td>Missing</td>\n",
       "    </tr>\n",
       "  </tbody>\n",
       "</table>\n",
       "<p>8405079 rows × 11 columns</p>\n",
       "</div>"
      ],
      "text/plain": [
       "        cdc_report_dt pos_spec_dt    onset_dt             current_status  \\\n",
       "0          2020/11/10  2020/11/10         NaN  Laboratory-confirmed case   \n",
       "1          2020/11/14  2020/11/10  2020/11/10  Laboratory-confirmed case   \n",
       "2          2020/11/19  2020/11/10  2020/11/09  Laboratory-confirmed case   \n",
       "3          2020/11/14  2020/11/10         NaN  Laboratory-confirmed case   \n",
       "4          2020/11/13  2020/11/10  2020/11/10  Laboratory-confirmed case   \n",
       "...               ...         ...         ...                        ...   \n",
       "8405074    2020/10/22         NaN         NaN              Probable Case   \n",
       "8405075    2020/10/25         NaN         NaN  Laboratory-confirmed case   \n",
       "8405076    2020/07/18         NaN         NaN  Laboratory-confirmed case   \n",
       "8405077    2020/11/19         NaN         NaN  Laboratory-confirmed case   \n",
       "8405078    2020/11/03         NaN         NaN  Laboratory-confirmed case   \n",
       "\n",
       "             sex      age_group Race and ethnicity (combined)  hosp_yn  \\\n",
       "0           Male  10 - 19 Years           Black, Non-Hispanic       No   \n",
       "1           Male  10 - 19 Years           Black, Non-Hispanic       No   \n",
       "2           Male  10 - 19 Years           Black, Non-Hispanic       No   \n",
       "3           Male  10 - 19 Years           Black, Non-Hispanic  Missing   \n",
       "4           Male  10 - 19 Years           Black, Non-Hispanic       No   \n",
       "...          ...            ...                           ...      ...   \n",
       "8405074  Missing  30 - 39 Years                       Unknown       No   \n",
       "8405075  Missing  30 - 39 Years                       Unknown  Missing   \n",
       "8405076  Missing  30 - 39 Years                       Unknown  Missing   \n",
       "8405077  Missing  30 - 39 Years                       Unknown  Missing   \n",
       "8405078  Missing  30 - 39 Years                       Unknown       No   \n",
       "\n",
       "          icu_yn death_yn medcond_yn  \n",
       "0        Unknown       No         No  \n",
       "1             No       No         No  \n",
       "2             No       No         No  \n",
       "3        Missing       No    Missing  \n",
       "4             No       No        Yes  \n",
       "...          ...      ...        ...  \n",
       "8405074  Unknown       No    Missing  \n",
       "8405075  Missing  Missing    Missing  \n",
       "8405076  Missing  Missing    Missing  \n",
       "8405077  Missing  Missing    Missing  \n",
       "8405078  Unknown       No    Missing  \n",
       "\n",
       "[8405079 rows x 11 columns]"
      ]
     },
     "execution_count": 4,
     "metadata": {},
     "output_type": "execute_result"
    }
   ],
   "source": [
    "# dataset has many 'unknown' and missing variables\n",
    "df"
   ]
  },
  {
   "cell_type": "code",
   "execution_count": 5,
   "id": "db6bd8d2",
   "metadata": {},
   "outputs": [
    {
     "name": "stdout",
     "output_type": "stream",
     "text": [
      "<class 'pandas.core.frame.DataFrame'>\n",
      "RangeIndex: 8405079 entries, 0 to 8405078\n",
      "Data columns (total 11 columns):\n",
      " #   Column                         Dtype \n",
      "---  ------                         ----- \n",
      " 0   cdc_report_dt                  object\n",
      " 1   pos_spec_dt                    object\n",
      " 2   onset_dt                       object\n",
      " 3   current_status                 object\n",
      " 4   sex                            object\n",
      " 5   age_group                      object\n",
      " 6   Race and ethnicity (combined)  object\n",
      " 7   hosp_yn                        object\n",
      " 8   icu_yn                         object\n",
      " 9   death_yn                       object\n",
      " 10  medcond_yn                     object\n",
      "dtypes: object(11)\n",
      "memory usage: 705.4+ MB\n"
     ]
    }
   ],
   "source": [
    "# dataframe contains of only 'object' variables\n",
    "df.info()"
   ]
  },
  {
   "cell_type": "code",
   "execution_count": 6,
   "id": "ae229578",
   "metadata": {},
   "outputs": [
    {
     "data": {
      "text/html": [
       "<div>\n",
       "<style scoped>\n",
       "    .dataframe tbody tr th:only-of-type {\n",
       "        vertical-align: middle;\n",
       "    }\n",
       "\n",
       "    .dataframe tbody tr th {\n",
       "        vertical-align: top;\n",
       "    }\n",
       "\n",
       "    .dataframe thead th {\n",
       "        text-align: right;\n",
       "    }\n",
       "</style>\n",
       "<table border=\"1\" class=\"dataframe\">\n",
       "  <thead>\n",
       "    <tr style=\"text-align: right;\">\n",
       "      <th></th>\n",
       "      <th>count</th>\n",
       "      <th>unique</th>\n",
       "      <th>top</th>\n",
       "      <th>freq</th>\n",
       "    </tr>\n",
       "  </thead>\n",
       "  <tbody>\n",
       "    <tr>\n",
       "      <th>cdc_report_dt</th>\n",
       "      <td>8405079</td>\n",
       "      <td>321</td>\n",
       "      <td>2020/06/24</td>\n",
       "      <td>155857</td>\n",
       "    </tr>\n",
       "    <tr>\n",
       "      <th>pos_spec_dt</th>\n",
       "      <td>2870789</td>\n",
       "      <td>313</td>\n",
       "      <td>2020/11/09</td>\n",
       "      <td>50595</td>\n",
       "    </tr>\n",
       "    <tr>\n",
       "      <th>onset_dt</th>\n",
       "      <td>4395957</td>\n",
       "      <td>338</td>\n",
       "      <td>2020/11/02</td>\n",
       "      <td>49527</td>\n",
       "    </tr>\n",
       "    <tr>\n",
       "      <th>current_status</th>\n",
       "      <td>8405079</td>\n",
       "      <td>2</td>\n",
       "      <td>Laboratory-confirmed case</td>\n",
       "      <td>7910118</td>\n",
       "    </tr>\n",
       "    <tr>\n",
       "      <th>sex</th>\n",
       "      <td>8405061</td>\n",
       "      <td>5</td>\n",
       "      <td>Female</td>\n",
       "      <td>4340898</td>\n",
       "    </tr>\n",
       "    <tr>\n",
       "      <th>age_group</th>\n",
       "      <td>8404990</td>\n",
       "      <td>10</td>\n",
       "      <td>20 - 29 Years</td>\n",
       "      <td>1635264</td>\n",
       "    </tr>\n",
       "    <tr>\n",
       "      <th>Race and ethnicity (combined)</th>\n",
       "      <td>8405072</td>\n",
       "      <td>9</td>\n",
       "      <td>Unknown</td>\n",
       "      <td>2781176</td>\n",
       "    </tr>\n",
       "    <tr>\n",
       "      <th>hosp_yn</th>\n",
       "      <td>8405079</td>\n",
       "      <td>4</td>\n",
       "      <td>No</td>\n",
       "      <td>3502556</td>\n",
       "    </tr>\n",
       "    <tr>\n",
       "      <th>icu_yn</th>\n",
       "      <td>8405079</td>\n",
       "      <td>4</td>\n",
       "      <td>Missing</td>\n",
       "      <td>6178281</td>\n",
       "    </tr>\n",
       "    <tr>\n",
       "      <th>death_yn</th>\n",
       "      <td>8405079</td>\n",
       "      <td>4</td>\n",
       "      <td>No</td>\n",
       "      <td>3690813</td>\n",
       "    </tr>\n",
       "    <tr>\n",
       "      <th>medcond_yn</th>\n",
       "      <td>8405079</td>\n",
       "      <td>4</td>\n",
       "      <td>Missing</td>\n",
       "      <td>6063390</td>\n",
       "    </tr>\n",
       "  </tbody>\n",
       "</table>\n",
       "</div>"
      ],
      "text/plain": [
       "                                 count unique                        top  \\\n",
       "cdc_report_dt                  8405079    321                 2020/06/24   \n",
       "pos_spec_dt                    2870789    313                 2020/11/09   \n",
       "onset_dt                       4395957    338                 2020/11/02   \n",
       "current_status                 8405079      2  Laboratory-confirmed case   \n",
       "sex                            8405061      5                     Female   \n",
       "age_group                      8404990     10              20 - 29 Years   \n",
       "Race and ethnicity (combined)  8405072      9                    Unknown   \n",
       "hosp_yn                        8405079      4                         No   \n",
       "icu_yn                         8405079      4                    Missing   \n",
       "death_yn                       8405079      4                         No   \n",
       "medcond_yn                     8405079      4                    Missing   \n",
       "\n",
       "                                  freq  \n",
       "cdc_report_dt                   155857  \n",
       "pos_spec_dt                      50595  \n",
       "onset_dt                         49527  \n",
       "current_status                 7910118  \n",
       "sex                            4340898  \n",
       "age_group                      1635264  \n",
       "Race and ethnicity (combined)  2781176  \n",
       "hosp_yn                        3502556  \n",
       "icu_yn                         6178281  \n",
       "death_yn                       3690813  \n",
       "medcond_yn                     6063390  "
      ]
     },
     "execution_count": 6,
     "metadata": {},
     "output_type": "execute_result"
    }
   ],
   "source": [
    "# Descriptive  of dataset, all are categorical variables\n",
    "df.describe().transpose()"
   ]
  },
  {
   "cell_type": "code",
   "execution_count": 7,
   "id": "3183599b",
   "metadata": {},
   "outputs": [
    {
     "data": {
      "text/plain": [
       "cdc_report_dt                          0\n",
       "pos_spec_dt                      5534290\n",
       "onset_dt                         4009122\n",
       "current_status                         0\n",
       "sex                                   18\n",
       "age_group                             89\n",
       "Race and ethnicity (combined)          7\n",
       "hosp_yn                                0\n",
       "icu_yn                                 0\n",
       "death_yn                               0\n",
       "medcond_yn                             0\n",
       "dtype: int64"
      ]
     },
     "execution_count": 7,
     "metadata": {},
     "output_type": "execute_result"
    }
   ],
   "source": [
    "# to check for missing variables\n",
    "# pos_spec_dt: Date of 1st positive specimen collection\n",
    "# onset_dt: When is the onset date\n",
    "df.isnull().sum()"
   ]
  },
  {
   "cell_type": "code",
   "execution_count": 11,
   "id": "f9054397",
   "metadata": {},
   "outputs": [
    {
     "data": {
      "text/plain": [
       "cdc_report_dt                     0.000000\n",
       "pos_spec_dt                      65.844592\n",
       "onset_dt                         47.698802\n",
       "current_status                    0.000000\n",
       "sex                               0.000214\n",
       "age_group                         0.001059\n",
       "Race and ethnicity (combined)     0.000083\n",
       "hosp_yn                           0.000000\n",
       "icu_yn                            0.000000\n",
       "death_yn                          0.000000\n",
       "medcond_yn                        0.000000\n",
       "dtype: float64"
      ]
     },
     "execution_count": 11,
     "metadata": {},
     "output_type": "execute_result"
    }
   ],
   "source": [
    "# to check % of missing values\n",
    "100*df.isnull().sum()/len(df)"
   ]
  },
  {
   "cell_type": "code",
   "execution_count": 47,
   "id": "ec1f0df0",
   "metadata": {},
   "outputs": [],
   "source": [
    "# to remove unimportant variables from dataset\n",
    "df = df.drop(['pos_spec_dt','onset_dt'], axis=1)"
   ]
  },
  {
   "cell_type": "code",
   "execution_count": 55,
   "id": "40987adb",
   "metadata": {},
   "outputs": [],
   "source": [
    "# to remove missing values from sex, age_group, ethnicity, missing values are small\n",
    "df = df.dropna()"
   ]
  },
  {
   "cell_type": "code",
   "execution_count": 56,
   "id": "a24194d0",
   "metadata": {},
   "outputs": [
    {
     "data": {
      "text/plain": [
       "current_status                   0\n",
       "sex                              0\n",
       "age_group                        0\n",
       "Race and ethnicity (combined)    0\n",
       "hosp_yn                          0\n",
       "icu_yn                           0\n",
       "death_yn                         0\n",
       "medcond_yn                       0\n",
       "Year                             0\n",
       "Month                            0\n",
       "dtype: int64"
      ]
     },
     "execution_count": 56,
     "metadata": {},
     "output_type": "execute_result"
    }
   ],
   "source": [
    "# check that there are no missing values in dataset \n",
    "df.isnull().sum()"
   ]
  },
  {
   "cell_type": "code",
   "execution_count": 12,
   "id": "1216ac0d",
   "metadata": {},
   "outputs": [
    {
     "data": {
      "text/plain": [
       "death_yn\n",
       "No         3690813\n",
       "Missing    3486923\n",
       "Unknown    1043766\n",
       "Yes         183577\n",
       "Name: count, dtype: int64"
      ]
     },
     "execution_count": 12,
     "metadata": {},
     "output_type": "execute_result"
    }
   ],
   "source": [
    "# dataset is imbalanced, with Negative cases outweighing the positive cases\n",
    "df['death_yn'].value_counts()"
   ]
  },
  {
   "cell_type": "code",
   "execution_count": 13,
   "id": "3e6bb8ac",
   "metadata": {},
   "outputs": [],
   "source": [
    "# to convert all 'Missing' variables in 'death_yn' into 'Unknown' using .replace\n",
    "df['death_yn'] = df['death_yn'].replace('Missing', 'Unknown')"
   ]
  },
  {
   "cell_type": "code",
   "execution_count": 14,
   "id": "aa70d257",
   "metadata": {},
   "outputs": [
    {
     "data": {
      "text/plain": [
       "death_yn\n",
       "Unknown    4530689\n",
       "No         3690813\n",
       "Yes         183577\n",
       "Name: count, dtype: int64"
      ]
     },
     "execution_count": 14,
     "metadata": {},
     "output_type": "execute_result"
    }
   ],
   "source": [
    "df['death_yn'].value_counts()"
   ]
  },
  {
   "cell_type": "code",
   "execution_count": 15,
   "id": "f99a14e7",
   "metadata": {},
   "outputs": [
    {
     "data": {
      "text/plain": [
       "0          2020/11/10\n",
       "1          2020/11/14\n",
       "2          2020/11/19\n",
       "3          2020/11/14\n",
       "4          2020/11/13\n",
       "              ...    \n",
       "8405074    2020/10/22\n",
       "8405075    2020/10/25\n",
       "8405076    2020/07/18\n",
       "8405077    2020/11/19\n",
       "8405078    2020/11/03\n",
       "Name: cdc_report_dt, Length: 8405079, dtype: object"
      ]
     },
     "execution_count": 15,
     "metadata": {},
     "output_type": "execute_result"
    }
   ],
   "source": [
    "# to print diagnosed Covid-19 date cases columns\n",
    "df['cdc_report_dt']"
   ]
  },
  {
   "cell_type": "code",
   "execution_count": 16,
   "id": "6193b18a",
   "metadata": {},
   "outputs": [],
   "source": [
    "# to covert cdc report column into date time format for further data processing\n",
    "df['cdc_report_dt'] = pd.to_datetime(df['cdc_report_dt'])"
   ]
  },
  {
   "cell_type": "code",
   "execution_count": 17,
   "id": "f7b5f3f7",
   "metadata": {},
   "outputs": [],
   "source": [
    "# to separate the date of cdc into 2 columns (Year, Month)\n",
    "df['Year'] = df['cdc_report_dt'].dt.year\n",
    "df['Month'] = df['cdc_report_dt'].dt.month"
   ]
  },
  {
   "cell_type": "code",
   "execution_count": 18,
   "id": "4c8a59ad",
   "metadata": {},
   "outputs": [
    {
     "data": {
      "text/html": [
       "<div>\n",
       "<style scoped>\n",
       "    .dataframe tbody tr th:only-of-type {\n",
       "        vertical-align: middle;\n",
       "    }\n",
       "\n",
       "    .dataframe tbody tr th {\n",
       "        vertical-align: top;\n",
       "    }\n",
       "\n",
       "    .dataframe thead th {\n",
       "        text-align: right;\n",
       "    }\n",
       "</style>\n",
       "<table border=\"1\" class=\"dataframe\">\n",
       "  <thead>\n",
       "    <tr style=\"text-align: right;\">\n",
       "      <th></th>\n",
       "      <th>cdc_report_dt</th>\n",
       "      <th>pos_spec_dt</th>\n",
       "      <th>onset_dt</th>\n",
       "      <th>current_status</th>\n",
       "      <th>sex</th>\n",
       "      <th>age_group</th>\n",
       "      <th>Race and ethnicity (combined)</th>\n",
       "      <th>hosp_yn</th>\n",
       "      <th>icu_yn</th>\n",
       "      <th>death_yn</th>\n",
       "      <th>medcond_yn</th>\n",
       "      <th>Year</th>\n",
       "      <th>Month</th>\n",
       "    </tr>\n",
       "  </thead>\n",
       "  <tbody>\n",
       "    <tr>\n",
       "      <th>0</th>\n",
       "      <td>2020-11-10</td>\n",
       "      <td>2020/11/10</td>\n",
       "      <td>NaN</td>\n",
       "      <td>Laboratory-confirmed case</td>\n",
       "      <td>Male</td>\n",
       "      <td>10 - 19 Years</td>\n",
       "      <td>Black, Non-Hispanic</td>\n",
       "      <td>No</td>\n",
       "      <td>Unknown</td>\n",
       "      <td>No</td>\n",
       "      <td>No</td>\n",
       "      <td>2020</td>\n",
       "      <td>11</td>\n",
       "    </tr>\n",
       "    <tr>\n",
       "      <th>1</th>\n",
       "      <td>2020-11-14</td>\n",
       "      <td>2020/11/10</td>\n",
       "      <td>2020/11/10</td>\n",
       "      <td>Laboratory-confirmed case</td>\n",
       "      <td>Male</td>\n",
       "      <td>10 - 19 Years</td>\n",
       "      <td>Black, Non-Hispanic</td>\n",
       "      <td>No</td>\n",
       "      <td>No</td>\n",
       "      <td>No</td>\n",
       "      <td>No</td>\n",
       "      <td>2020</td>\n",
       "      <td>11</td>\n",
       "    </tr>\n",
       "    <tr>\n",
       "      <th>2</th>\n",
       "      <td>2020-11-19</td>\n",
       "      <td>2020/11/10</td>\n",
       "      <td>2020/11/09</td>\n",
       "      <td>Laboratory-confirmed case</td>\n",
       "      <td>Male</td>\n",
       "      <td>10 - 19 Years</td>\n",
       "      <td>Black, Non-Hispanic</td>\n",
       "      <td>No</td>\n",
       "      <td>No</td>\n",
       "      <td>No</td>\n",
       "      <td>No</td>\n",
       "      <td>2020</td>\n",
       "      <td>11</td>\n",
       "    </tr>\n",
       "    <tr>\n",
       "      <th>3</th>\n",
       "      <td>2020-11-14</td>\n",
       "      <td>2020/11/10</td>\n",
       "      <td>NaN</td>\n",
       "      <td>Laboratory-confirmed case</td>\n",
       "      <td>Male</td>\n",
       "      <td>10 - 19 Years</td>\n",
       "      <td>Black, Non-Hispanic</td>\n",
       "      <td>Missing</td>\n",
       "      <td>Missing</td>\n",
       "      <td>No</td>\n",
       "      <td>Missing</td>\n",
       "      <td>2020</td>\n",
       "      <td>11</td>\n",
       "    </tr>\n",
       "    <tr>\n",
       "      <th>4</th>\n",
       "      <td>2020-11-13</td>\n",
       "      <td>2020/11/10</td>\n",
       "      <td>2020/11/10</td>\n",
       "      <td>Laboratory-confirmed case</td>\n",
       "      <td>Male</td>\n",
       "      <td>10 - 19 Years</td>\n",
       "      <td>Black, Non-Hispanic</td>\n",
       "      <td>No</td>\n",
       "      <td>No</td>\n",
       "      <td>No</td>\n",
       "      <td>Yes</td>\n",
       "      <td>2020</td>\n",
       "      <td>11</td>\n",
       "    </tr>\n",
       "  </tbody>\n",
       "</table>\n",
       "</div>"
      ],
      "text/plain": [
       "  cdc_report_dt pos_spec_dt    onset_dt             current_status   sex  \\\n",
       "0    2020-11-10  2020/11/10         NaN  Laboratory-confirmed case  Male   \n",
       "1    2020-11-14  2020/11/10  2020/11/10  Laboratory-confirmed case  Male   \n",
       "2    2020-11-19  2020/11/10  2020/11/09  Laboratory-confirmed case  Male   \n",
       "3    2020-11-14  2020/11/10         NaN  Laboratory-confirmed case  Male   \n",
       "4    2020-11-13  2020/11/10  2020/11/10  Laboratory-confirmed case  Male   \n",
       "\n",
       "       age_group Race and ethnicity (combined)  hosp_yn   icu_yn death_yn  \\\n",
       "0  10 - 19 Years           Black, Non-Hispanic       No  Unknown       No   \n",
       "1  10 - 19 Years           Black, Non-Hispanic       No       No       No   \n",
       "2  10 - 19 Years           Black, Non-Hispanic       No       No       No   \n",
       "3  10 - 19 Years           Black, Non-Hispanic  Missing  Missing       No   \n",
       "4  10 - 19 Years           Black, Non-Hispanic       No       No       No   \n",
       "\n",
       "  medcond_yn  Year  Month  \n",
       "0         No  2020     11  \n",
       "1         No  2020     11  \n",
       "2         No  2020     11  \n",
       "3    Missing  2020     11  \n",
       "4        Yes  2020     11  "
      ]
     },
     "execution_count": 18,
     "metadata": {},
     "output_type": "execute_result"
    }
   ],
   "source": [
    "# to check the dataframe for newly created columns\n",
    "df.head()"
   ]
  },
  {
   "cell_type": "code",
   "execution_count": 19,
   "id": "901604d5",
   "metadata": {},
   "outputs": [],
   "source": [
    "# to remove the cdc report date column as relevant information has been extracted\n",
    "df = df.drop('cdc_report_dt', axis=1)"
   ]
  },
  {
   "cell_type": "code",
   "execution_count": 20,
   "id": "62a459e9",
   "metadata": {},
   "outputs": [],
   "source": [
    "# to get the month name from numbers in Python, 'Month' column\n",
    "import calendar \n",
    "from datetime import datetime"
   ]
  },
  {
   "cell_type": "code",
   "execution_count": 21,
   "id": "4b96c88c",
   "metadata": {},
   "outputs": [],
   "source": [
    "# to convert digits in 'Month' to Month name, using lambda\n",
    "df['Month'] = df['Month'].apply(lambda x: calendar.month_name[x])"
   ]
  },
  {
   "cell_type": "code",
   "execution_count": 22,
   "id": "18ffdcb2",
   "metadata": {},
   "outputs": [
    {
     "data": {
      "text/html": [
       "<div>\n",
       "<style scoped>\n",
       "    .dataframe tbody tr th:only-of-type {\n",
       "        vertical-align: middle;\n",
       "    }\n",
       "\n",
       "    .dataframe tbody tr th {\n",
       "        vertical-align: top;\n",
       "    }\n",
       "\n",
       "    .dataframe thead th {\n",
       "        text-align: right;\n",
       "    }\n",
       "</style>\n",
       "<table border=\"1\" class=\"dataframe\">\n",
       "  <thead>\n",
       "    <tr style=\"text-align: right;\">\n",
       "      <th></th>\n",
       "      <th>pos_spec_dt</th>\n",
       "      <th>onset_dt</th>\n",
       "      <th>current_status</th>\n",
       "      <th>sex</th>\n",
       "      <th>age_group</th>\n",
       "      <th>Race and ethnicity (combined)</th>\n",
       "      <th>hosp_yn</th>\n",
       "      <th>icu_yn</th>\n",
       "      <th>death_yn</th>\n",
       "      <th>medcond_yn</th>\n",
       "      <th>Year</th>\n",
       "      <th>Month</th>\n",
       "    </tr>\n",
       "  </thead>\n",
       "  <tbody>\n",
       "    <tr>\n",
       "      <th>0</th>\n",
       "      <td>2020/11/10</td>\n",
       "      <td>NaN</td>\n",
       "      <td>Laboratory-confirmed case</td>\n",
       "      <td>Male</td>\n",
       "      <td>10 - 19 Years</td>\n",
       "      <td>Black, Non-Hispanic</td>\n",
       "      <td>No</td>\n",
       "      <td>Unknown</td>\n",
       "      <td>No</td>\n",
       "      <td>No</td>\n",
       "      <td>2020</td>\n",
       "      <td>November</td>\n",
       "    </tr>\n",
       "    <tr>\n",
       "      <th>1</th>\n",
       "      <td>2020/11/10</td>\n",
       "      <td>2020/11/10</td>\n",
       "      <td>Laboratory-confirmed case</td>\n",
       "      <td>Male</td>\n",
       "      <td>10 - 19 Years</td>\n",
       "      <td>Black, Non-Hispanic</td>\n",
       "      <td>No</td>\n",
       "      <td>No</td>\n",
       "      <td>No</td>\n",
       "      <td>No</td>\n",
       "      <td>2020</td>\n",
       "      <td>November</td>\n",
       "    </tr>\n",
       "    <tr>\n",
       "      <th>2</th>\n",
       "      <td>2020/11/10</td>\n",
       "      <td>2020/11/09</td>\n",
       "      <td>Laboratory-confirmed case</td>\n",
       "      <td>Male</td>\n",
       "      <td>10 - 19 Years</td>\n",
       "      <td>Black, Non-Hispanic</td>\n",
       "      <td>No</td>\n",
       "      <td>No</td>\n",
       "      <td>No</td>\n",
       "      <td>No</td>\n",
       "      <td>2020</td>\n",
       "      <td>November</td>\n",
       "    </tr>\n",
       "    <tr>\n",
       "      <th>3</th>\n",
       "      <td>2020/11/10</td>\n",
       "      <td>NaN</td>\n",
       "      <td>Laboratory-confirmed case</td>\n",
       "      <td>Male</td>\n",
       "      <td>10 - 19 Years</td>\n",
       "      <td>Black, Non-Hispanic</td>\n",
       "      <td>Missing</td>\n",
       "      <td>Missing</td>\n",
       "      <td>No</td>\n",
       "      <td>Missing</td>\n",
       "      <td>2020</td>\n",
       "      <td>November</td>\n",
       "    </tr>\n",
       "    <tr>\n",
       "      <th>4</th>\n",
       "      <td>2020/11/10</td>\n",
       "      <td>2020/11/10</td>\n",
       "      <td>Laboratory-confirmed case</td>\n",
       "      <td>Male</td>\n",
       "      <td>10 - 19 Years</td>\n",
       "      <td>Black, Non-Hispanic</td>\n",
       "      <td>No</td>\n",
       "      <td>No</td>\n",
       "      <td>No</td>\n",
       "      <td>Yes</td>\n",
       "      <td>2020</td>\n",
       "      <td>November</td>\n",
       "    </tr>\n",
       "  </tbody>\n",
       "</table>\n",
       "</div>"
      ],
      "text/plain": [
       "  pos_spec_dt    onset_dt             current_status   sex      age_group  \\\n",
       "0  2020/11/10         NaN  Laboratory-confirmed case  Male  10 - 19 Years   \n",
       "1  2020/11/10  2020/11/10  Laboratory-confirmed case  Male  10 - 19 Years   \n",
       "2  2020/11/10  2020/11/09  Laboratory-confirmed case  Male  10 - 19 Years   \n",
       "3  2020/11/10         NaN  Laboratory-confirmed case  Male  10 - 19 Years   \n",
       "4  2020/11/10  2020/11/10  Laboratory-confirmed case  Male  10 - 19 Years   \n",
       "\n",
       "  Race and ethnicity (combined)  hosp_yn   icu_yn death_yn medcond_yn  Year  \\\n",
       "0           Black, Non-Hispanic       No  Unknown       No         No  2020   \n",
       "1           Black, Non-Hispanic       No       No       No         No  2020   \n",
       "2           Black, Non-Hispanic       No       No       No         No  2020   \n",
       "3           Black, Non-Hispanic  Missing  Missing       No    Missing  2020   \n",
       "4           Black, Non-Hispanic       No       No       No        Yes  2020   \n",
       "\n",
       "      Month  \n",
       "0  November  \n",
       "1  November  \n",
       "2  November  \n",
       "3  November  \n",
       "4  November  "
      ]
     },
     "execution_count": 22,
     "metadata": {},
     "output_type": "execute_result"
    }
   ],
   "source": [
    "# to check dataframe again\n",
    "df.head()"
   ]
  },
  {
   "cell_type": "code",
   "execution_count": 23,
   "id": "02151dc8",
   "metadata": {},
   "outputs": [
    {
     "data": {
      "text/plain": [
       "array(['Male', 'Unknown', 'Missing', 'Female', 'Other', nan], dtype=object)"
      ]
     },
     "execution_count": 23,
     "metadata": {},
     "output_type": "execute_result"
    }
   ],
   "source": [
    "df['sex'].unique()"
   ]
  },
  {
   "cell_type": "code",
   "execution_count": 24,
   "id": "edad6144",
   "metadata": {},
   "outputs": [],
   "source": [
    "# to convert all 'Missing' variables in 'sex' into 'Unknown'\n",
    "df['sex'] = df['sex'].replace('Missing', 'Unknown')"
   ]
  },
  {
   "cell_type": "code",
   "execution_count": 25,
   "id": "290db073",
   "metadata": {},
   "outputs": [
    {
     "data": {
      "text/plain": [
       "sex\n",
       "Female     4340898\n",
       "Male       3970591\n",
       "Unknown      93365\n",
       "Other          207\n",
       "Name: count, dtype: int64"
      ]
     },
     "execution_count": 25,
     "metadata": {},
     "output_type": "execute_result"
    }
   ],
   "source": [
    "df['sex'].value_counts()"
   ]
  },
  {
   "cell_type": "code",
   "execution_count": 26,
   "id": "5bd87786",
   "metadata": {},
   "outputs": [
    {
     "data": {
      "text/plain": [
       "Race and ethnicity (combined)\n",
       "Unknown                                                 2781176\n",
       "White, Non-Hispanic                                     2599410\n",
       "Hispanic/Latino                                         1195739\n",
       "Black, Non-Hispanic                                      736584\n",
       "Missing                                                  601519\n",
       "Multiple/Other, Non-Hispanic                             270509\n",
       "Asian, Non-Hispanic                                      143080\n",
       "American Indian/Alaska Native, Non-Hispanic               59842\n",
       "Native Hawaiian/Other Pacific Islander, Non-Hispanic      17213\n",
       "Name: count, dtype: int64"
      ]
     },
     "execution_count": 26,
     "metadata": {},
     "output_type": "execute_result"
    }
   ],
   "source": [
    "df['Race and ethnicity (combined)'].value_counts()"
   ]
  },
  {
   "cell_type": "code",
   "execution_count": 27,
   "id": "00fcac7d",
   "metadata": {},
   "outputs": [],
   "source": [
    "# to convert all Missing variables in 'Race' into Unknown\n",
    "df['Race and ethnicity (combined)'] = df['Race and ethnicity (combined)'].replace('Missing', 'Unknown')"
   ]
  },
  {
   "cell_type": "code",
   "execution_count": 28,
   "id": "467a380f",
   "metadata": {},
   "outputs": [
    {
     "data": {
      "text/plain": [
       "Race and ethnicity (combined)\n",
       "Unknown                                                 3382695\n",
       "White, Non-Hispanic                                     2599410\n",
       "Hispanic/Latino                                         1195739\n",
       "Black, Non-Hispanic                                      736584\n",
       "Multiple/Other, Non-Hispanic                             270509\n",
       "Asian, Non-Hispanic                                      143080\n",
       "American Indian/Alaska Native, Non-Hispanic               59842\n",
       "Native Hawaiian/Other Pacific Islander, Non-Hispanic      17213\n",
       "Name: count, dtype: int64"
      ]
     },
     "execution_count": 28,
     "metadata": {},
     "output_type": "execute_result"
    }
   ],
   "source": [
    "df['Race and ethnicity (combined)'].value_counts()"
   ]
  },
  {
   "cell_type": "code",
   "execution_count": 29,
   "id": "b3c82f8a",
   "metadata": {},
   "outputs": [
    {
     "data": {
      "text/plain": [
       "hosp_yn\n",
       "No         3502556\n",
       "Missing    3227302\n",
       "Unknown    1136450\n",
       "Yes         538771\n",
       "Name: count, dtype: int64"
      ]
     },
     "execution_count": 29,
     "metadata": {},
     "output_type": "execute_result"
    }
   ],
   "source": [
    "df['hosp_yn'].value_counts()"
   ]
  },
  {
   "cell_type": "code",
   "execution_count": 30,
   "id": "6d9a62d2",
   "metadata": {},
   "outputs": [],
   "source": [
    "# to replace all Missing variables in 'hosp_yn' into Unknown\n",
    "df['hosp_yn'] = df['hosp_yn'].replace('Missing', 'Unknown')"
   ]
  },
  {
   "cell_type": "code",
   "execution_count": 31,
   "id": "3a2ae27a",
   "metadata": {},
   "outputs": [
    {
     "data": {
      "text/plain": [
       "hosp_yn\n",
       "Unknown    4363752\n",
       "No         3502556\n",
       "Yes         538771\n",
       "Name: count, dtype: int64"
      ]
     },
     "execution_count": 31,
     "metadata": {},
     "output_type": "execute_result"
    }
   ],
   "source": [
    "df['hosp_yn'].value_counts()"
   ]
  },
  {
   "cell_type": "code",
   "execution_count": 32,
   "id": "11c4ad66",
   "metadata": {},
   "outputs": [
    {
     "data": {
      "text/plain": [
       "icu_yn\n",
       "Missing    6178281\n",
       "Unknown    1286236\n",
       "No          879671\n",
       "Yes          60891\n",
       "Name: count, dtype: int64"
      ]
     },
     "execution_count": 32,
     "metadata": {},
     "output_type": "execute_result"
    }
   ],
   "source": [
    "df['icu_yn'].value_counts()"
   ]
  },
  {
   "cell_type": "code",
   "execution_count": 33,
   "id": "08866b97",
   "metadata": {},
   "outputs": [],
   "source": [
    "# to replace all Missing variables in 'hosp_yn' into Unknown\n",
    "df['icu_yn'] = df['icu_yn'].replace('Missing', 'Unknown')"
   ]
  },
  {
   "cell_type": "code",
   "execution_count": 34,
   "id": "ae341ba7",
   "metadata": {},
   "outputs": [
    {
     "data": {
      "text/plain": [
       "icu_yn\n",
       "Unknown    7464517\n",
       "No          879671\n",
       "Yes          60891\n",
       "Name: count, dtype: int64"
      ]
     },
     "execution_count": 34,
     "metadata": {},
     "output_type": "execute_result"
    }
   ],
   "source": [
    "df['icu_yn'].value_counts()"
   ]
  },
  {
   "cell_type": "code",
   "execution_count": 35,
   "id": "3119703d",
   "metadata": {},
   "outputs": [
    {
     "data": {
      "text/plain": [
       "medcond_yn\n",
       "Missing    6063390\n",
       "Unknown     838018\n",
       "Yes         785255\n",
       "No          718416\n",
       "Name: count, dtype: int64"
      ]
     },
     "execution_count": 35,
     "metadata": {},
     "output_type": "execute_result"
    }
   ],
   "source": [
    "df['medcond_yn'].value_counts()"
   ]
  },
  {
   "cell_type": "code",
   "execution_count": 36,
   "id": "ad54dda5",
   "metadata": {},
   "outputs": [],
   "source": [
    "# to replace all Missing variables in 'medcond_yn' into Unknown\n",
    "df['medcond_yn'] = df['medcond_yn'].replace('Missing', 'Unknown')"
   ]
  },
  {
   "cell_type": "code",
   "execution_count": 37,
   "id": "6b9510ac",
   "metadata": {},
   "outputs": [
    {
     "data": {
      "text/plain": [
       "medcond_yn\n",
       "Unknown    6901408\n",
       "Yes         785255\n",
       "No          718416\n",
       "Name: count, dtype: int64"
      ]
     },
     "execution_count": 37,
     "metadata": {},
     "output_type": "execute_result"
    }
   ],
   "source": [
    "df['medcond_yn'].value_counts()"
   ]
  },
  {
   "cell_type": "code",
   "execution_count": 38,
   "id": "b31ca761",
   "metadata": {},
   "outputs": [
    {
     "name": "stdout",
     "output_type": "stream",
     "text": [
      "<class 'pandas.core.frame.DataFrame'>\n",
      "RangeIndex: 8405079 entries, 0 to 8405078\n",
      "Data columns (total 12 columns):\n",
      " #   Column                         Dtype \n",
      "---  ------                         ----- \n",
      " 0   pos_spec_dt                    object\n",
      " 1   onset_dt                       object\n",
      " 2   current_status                 object\n",
      " 3   sex                            object\n",
      " 4   age_group                      object\n",
      " 5   Race and ethnicity (combined)  object\n",
      " 6   hosp_yn                        object\n",
      " 7   icu_yn                         object\n",
      " 8   death_yn                       object\n",
      " 9   medcond_yn                     object\n",
      " 10  Year                           int32 \n",
      " 11  Month                          object\n",
      "dtypes: int32(1), object(11)\n",
      "memory usage: 737.4+ MB\n"
     ]
    }
   ],
   "source": [
    "df.info()"
   ]
  },
  {
   "cell_type": "code",
   "execution_count": 40,
   "id": "ff9cb60f",
   "metadata": {},
   "outputs": [
    {
     "data": {
      "text/plain": [
       "Month\n",
       "November     1720797\n",
       "October      1460022\n",
       "July         1079639\n",
       "August        991097\n",
       "September     989500\n",
       "June          880134\n",
       "May           582196\n",
       "April         538948\n",
       "March         161477\n",
       "February        1037\n",
       "January          232\n",
       "Name: count, dtype: int64"
      ]
     },
     "execution_count": 40,
     "metadata": {},
     "output_type": "execute_result"
    }
   ],
   "source": [
    "df['Month'].value_counts()"
   ]
  },
  {
   "cell_type": "code",
   "execution_count": 41,
   "id": "14c5da4e",
   "metadata": {},
   "outputs": [
    {
     "data": {
      "text/plain": [
       "Year\n",
       "2020    8405079\n",
       "Name: count, dtype: int64"
      ]
     },
     "execution_count": 41,
     "metadata": {},
     "output_type": "execute_result"
    }
   ],
   "source": [
    "# Year of Covid-19 cases = 2020\n",
    "df['Year'].value_counts()"
   ]
  },
  {
   "cell_type": "code",
   "execution_count": 42,
   "id": "0d152783",
   "metadata": {},
   "outputs": [
    {
     "data": {
      "text/plain": [
       "age_group\n",
       "20 - 29 Years    1635264\n",
       "30 - 39 Years    1372623\n",
       "40 - 49 Years    1267350\n",
       "50 - 59 Years    1227493\n",
       "60 - 69 Years     863260\n",
       "10 - 19 Years     841450\n",
       "70 - 79 Years     483689\n",
       "80+ Years         382869\n",
       "0 - 9 Years       299040\n",
       "Unknown            31952\n",
       "Name: count, dtype: int64"
      ]
     },
     "execution_count": 42,
     "metadata": {},
     "output_type": "execute_result"
    }
   ],
   "source": [
    "# to check categories in 'age_group' variable\n",
    "df['age_group'].value_counts()"
   ]
  },
  {
   "cell_type": "code",
   "execution_count": 43,
   "id": "13f0757e",
   "metadata": {},
   "outputs": [],
   "source": [
    "# After converting all 'Missing' variables to 'Unknown', to drop all rows with Unknown values in dataframe\n",
    "# https://stackoverflow.com/questions/44211248/i-want-to-remove-all-rows-which-turn-out-the-result-unknown-for-a-certain-colu\n",
    "df = df[df['Race and ethnicity (combined)'] != 'Unknown']\n",
    "df = df[df['death_yn'] != 'Unknown']\n",
    "df = df[df['hosp_yn'] != 'Unknown']\n",
    "df = df[df['icu_yn']!= 'Unknown']\n",
    "df = df[df['medcond_yn']!= 'Unknown']\n",
    "df = df[df['sex'] != 'Unknown']\n",
    "df = df[df['age_group'] != 'Unknown']"
   ]
  },
  {
   "cell_type": "code",
   "execution_count": 51,
   "id": "0f33c047",
   "metadata": {},
   "outputs": [
    {
     "data": {
      "text/plain": [
       "age_group\n",
       "20 - 29 Years    79676\n",
       "50 - 59 Years    69653\n",
       "30 - 39 Years    66258\n",
       "40 - 49 Years    65798\n",
       "60 - 69 Years    55541\n",
       "10 - 19 Years    44218\n",
       "70 - 79 Years    35232\n",
       "80+ Years        26972\n",
       "0 - 9 Years      14431\n",
       "Name: count, dtype: int64"
      ]
     },
     "execution_count": 51,
     "metadata": {},
     "output_type": "execute_result"
    }
   ],
   "source": [
    "# after removing 'Unknown'\n",
    "df['age_group'].value_counts()"
   ]
  },
  {
   "cell_type": "code",
   "execution_count": 50,
   "id": "e49a39d6",
   "metadata": {},
   "outputs": [
    {
     "data": {
      "text/plain": [
       "death_yn\n",
       "No     428633\n",
       "Yes     29170\n",
       "Name: count, dtype: int64"
      ]
     },
     "execution_count": 50,
     "metadata": {},
     "output_type": "execute_result"
    }
   ],
   "source": [
    "# after removing 'Unknown'\n",
    "df['death_yn'].value_counts()"
   ]
  },
  {
   "cell_type": "code",
   "execution_count": 48,
   "id": "7cae0018",
   "metadata": {},
   "outputs": [
    {
     "data": {
      "text/html": [
       "<div>\n",
       "<style scoped>\n",
       "    .dataframe tbody tr th:only-of-type {\n",
       "        vertical-align: middle;\n",
       "    }\n",
       "\n",
       "    .dataframe tbody tr th {\n",
       "        vertical-align: top;\n",
       "    }\n",
       "\n",
       "    .dataframe thead th {\n",
       "        text-align: right;\n",
       "    }\n",
       "</style>\n",
       "<table border=\"1\" class=\"dataframe\">\n",
       "  <thead>\n",
       "    <tr style=\"text-align: right;\">\n",
       "      <th></th>\n",
       "      <th>current_status</th>\n",
       "      <th>sex</th>\n",
       "      <th>age_group</th>\n",
       "      <th>Race and ethnicity (combined)</th>\n",
       "      <th>hosp_yn</th>\n",
       "      <th>icu_yn</th>\n",
       "      <th>death_yn</th>\n",
       "      <th>medcond_yn</th>\n",
       "      <th>Year</th>\n",
       "      <th>Month</th>\n",
       "    </tr>\n",
       "  </thead>\n",
       "  <tbody>\n",
       "    <tr>\n",
       "      <th>1</th>\n",
       "      <td>Laboratory-confirmed case</td>\n",
       "      <td>Male</td>\n",
       "      <td>10 - 19 Years</td>\n",
       "      <td>Black, Non-Hispanic</td>\n",
       "      <td>No</td>\n",
       "      <td>No</td>\n",
       "      <td>No</td>\n",
       "      <td>No</td>\n",
       "      <td>2020</td>\n",
       "      <td>November</td>\n",
       "    </tr>\n",
       "    <tr>\n",
       "      <th>2</th>\n",
       "      <td>Laboratory-confirmed case</td>\n",
       "      <td>Male</td>\n",
       "      <td>10 - 19 Years</td>\n",
       "      <td>Black, Non-Hispanic</td>\n",
       "      <td>No</td>\n",
       "      <td>No</td>\n",
       "      <td>No</td>\n",
       "      <td>No</td>\n",
       "      <td>2020</td>\n",
       "      <td>November</td>\n",
       "    </tr>\n",
       "    <tr>\n",
       "      <th>4</th>\n",
       "      <td>Laboratory-confirmed case</td>\n",
       "      <td>Male</td>\n",
       "      <td>10 - 19 Years</td>\n",
       "      <td>Black, Non-Hispanic</td>\n",
       "      <td>No</td>\n",
       "      <td>No</td>\n",
       "      <td>No</td>\n",
       "      <td>Yes</td>\n",
       "      <td>2020</td>\n",
       "      <td>November</td>\n",
       "    </tr>\n",
       "    <tr>\n",
       "      <th>11</th>\n",
       "      <td>Laboratory-confirmed case</td>\n",
       "      <td>Male</td>\n",
       "      <td>10 - 19 Years</td>\n",
       "      <td>Black, Non-Hispanic</td>\n",
       "      <td>No</td>\n",
       "      <td>No</td>\n",
       "      <td>No</td>\n",
       "      <td>No</td>\n",
       "      <td>2020</td>\n",
       "      <td>November</td>\n",
       "    </tr>\n",
       "    <tr>\n",
       "      <th>14</th>\n",
       "      <td>Laboratory-confirmed case</td>\n",
       "      <td>Male</td>\n",
       "      <td>10 - 19 Years</td>\n",
       "      <td>Black, Non-Hispanic</td>\n",
       "      <td>No</td>\n",
       "      <td>No</td>\n",
       "      <td>No</td>\n",
       "      <td>Yes</td>\n",
       "      <td>2020</td>\n",
       "      <td>November</td>\n",
       "    </tr>\n",
       "    <tr>\n",
       "      <th>...</th>\n",
       "      <td>...</td>\n",
       "      <td>...</td>\n",
       "      <td>...</td>\n",
       "      <td>...</td>\n",
       "      <td>...</td>\n",
       "      <td>...</td>\n",
       "      <td>...</td>\n",
       "      <td>...</td>\n",
       "      <td>...</td>\n",
       "      <td>...</td>\n",
       "    </tr>\n",
       "    <tr>\n",
       "      <th>8404296</th>\n",
       "      <td>Laboratory-confirmed case</td>\n",
       "      <td>Female</td>\n",
       "      <td>30 - 39 Years</td>\n",
       "      <td>Hispanic/Latino</td>\n",
       "      <td>No</td>\n",
       "      <td>No</td>\n",
       "      <td>No</td>\n",
       "      <td>No</td>\n",
       "      <td>2020</td>\n",
       "      <td>November</td>\n",
       "    </tr>\n",
       "    <tr>\n",
       "      <th>8404365</th>\n",
       "      <td>Laboratory-confirmed case</td>\n",
       "      <td>Female</td>\n",
       "      <td>30 - 39 Years</td>\n",
       "      <td>Hispanic/Latino</td>\n",
       "      <td>No</td>\n",
       "      <td>No</td>\n",
       "      <td>No</td>\n",
       "      <td>Yes</td>\n",
       "      <td>2020</td>\n",
       "      <td>June</td>\n",
       "    </tr>\n",
       "    <tr>\n",
       "      <th>8404392</th>\n",
       "      <td>Laboratory-confirmed case</td>\n",
       "      <td>Female</td>\n",
       "      <td>30 - 39 Years</td>\n",
       "      <td>Hispanic/Latino</td>\n",
       "      <td>No</td>\n",
       "      <td>No</td>\n",
       "      <td>No</td>\n",
       "      <td>Yes</td>\n",
       "      <td>2020</td>\n",
       "      <td>May</td>\n",
       "    </tr>\n",
       "    <tr>\n",
       "      <th>8404461</th>\n",
       "      <td>Probable Case</td>\n",
       "      <td>Female</td>\n",
       "      <td>30 - 39 Years</td>\n",
       "      <td>Hispanic/Latino</td>\n",
       "      <td>No</td>\n",
       "      <td>No</td>\n",
       "      <td>No</td>\n",
       "      <td>No</td>\n",
       "      <td>2020</td>\n",
       "      <td>June</td>\n",
       "    </tr>\n",
       "    <tr>\n",
       "      <th>8404559</th>\n",
       "      <td>Laboratory-confirmed case</td>\n",
       "      <td>Female</td>\n",
       "      <td>30 - 39 Years</td>\n",
       "      <td>Hispanic/Latino</td>\n",
       "      <td>No</td>\n",
       "      <td>No</td>\n",
       "      <td>No</td>\n",
       "      <td>Yes</td>\n",
       "      <td>2020</td>\n",
       "      <td>July</td>\n",
       "    </tr>\n",
       "  </tbody>\n",
       "</table>\n",
       "<p>457803 rows × 10 columns</p>\n",
       "</div>"
      ],
      "text/plain": [
       "                    current_status     sex      age_group  \\\n",
       "1        Laboratory-confirmed case    Male  10 - 19 Years   \n",
       "2        Laboratory-confirmed case    Male  10 - 19 Years   \n",
       "4        Laboratory-confirmed case    Male  10 - 19 Years   \n",
       "11       Laboratory-confirmed case    Male  10 - 19 Years   \n",
       "14       Laboratory-confirmed case    Male  10 - 19 Years   \n",
       "...                            ...     ...            ...   \n",
       "8404296  Laboratory-confirmed case  Female  30 - 39 Years   \n",
       "8404365  Laboratory-confirmed case  Female  30 - 39 Years   \n",
       "8404392  Laboratory-confirmed case  Female  30 - 39 Years   \n",
       "8404461              Probable Case  Female  30 - 39 Years   \n",
       "8404559  Laboratory-confirmed case  Female  30 - 39 Years   \n",
       "\n",
       "        Race and ethnicity (combined) hosp_yn icu_yn death_yn medcond_yn  \\\n",
       "1                 Black, Non-Hispanic      No     No       No         No   \n",
       "2                 Black, Non-Hispanic      No     No       No         No   \n",
       "4                 Black, Non-Hispanic      No     No       No        Yes   \n",
       "11                Black, Non-Hispanic      No     No       No         No   \n",
       "14                Black, Non-Hispanic      No     No       No        Yes   \n",
       "...                               ...     ...    ...      ...        ...   \n",
       "8404296               Hispanic/Latino      No     No       No         No   \n",
       "8404365               Hispanic/Latino      No     No       No        Yes   \n",
       "8404392               Hispanic/Latino      No     No       No        Yes   \n",
       "8404461               Hispanic/Latino      No     No       No         No   \n",
       "8404559               Hispanic/Latino      No     No       No        Yes   \n",
       "\n",
       "         Year     Month  \n",
       "1        2020  November  \n",
       "2        2020  November  \n",
       "4        2020  November  \n",
       "11       2020  November  \n",
       "14       2020  November  \n",
       "...       ...       ...  \n",
       "8404296  2020  November  \n",
       "8404365  2020      June  \n",
       "8404392  2020       May  \n",
       "8404461  2020      June  \n",
       "8404559  2020      July  \n",
       "\n",
       "[457803 rows x 10 columns]"
      ]
     },
     "execution_count": 48,
     "metadata": {},
     "output_type": "execute_result"
    }
   ],
   "source": [
    "# dataset does not contain anymore 'missing' or 'unknown' variables\n",
    "df"
   ]
  },
  {
   "cell_type": "code",
   "execution_count": 57,
   "id": "531aa0a0",
   "metadata": {},
   "outputs": [
    {
     "name": "stdout",
     "output_type": "stream",
     "text": [
      "<class 'pandas.core.frame.DataFrame'>\n",
      "Index: 457779 entries, 1 to 8404559\n",
      "Data columns (total 10 columns):\n",
      " #   Column                         Non-Null Count   Dtype \n",
      "---  ------                         --------------   ----- \n",
      " 0   current_status                 457779 non-null  object\n",
      " 1   sex                            457779 non-null  object\n",
      " 2   age_group                      457779 non-null  object\n",
      " 3   Race and ethnicity (combined)  457779 non-null  object\n",
      " 4   hosp_yn                        457779 non-null  object\n",
      " 5   icu_yn                         457779 non-null  object\n",
      " 6   death_yn                       457779 non-null  object\n",
      " 7   medcond_yn                     457779 non-null  object\n",
      " 8   Year                           457779 non-null  int32 \n",
      " 9   Month                          457779 non-null  object\n",
      "dtypes: int32(1), object(9)\n",
      "memory usage: 36.7+ MB\n"
     ]
    }
   ],
   "source": [
    "df.info()"
   ]
  },
  {
   "cell_type": "code",
   "execution_count": 59,
   "id": "33d00441",
   "metadata": {},
   "outputs": [
    {
     "data": {
      "text/plain": [
       "current_status                   0\n",
       "sex                              0\n",
       "age_group                        0\n",
       "Race and ethnicity (combined)    0\n",
       "hosp_yn                          0\n",
       "icu_yn                           0\n",
       "death_yn                         0\n",
       "medcond_yn                       0\n",
       "Year                             0\n",
       "Month                            0\n",
       "dtype: int64"
      ]
     },
     "execution_count": 59,
     "metadata": {},
     "output_type": "execute_result"
    }
   ],
   "source": [
    "# to check that there are no missing values in dataset before Exploratory data analysis\n",
    "df.isnull().sum()"
   ]
  },
  {
   "cell_type": "code",
   "execution_count": 47,
   "id": "bb110053",
   "metadata": {},
   "outputs": [
    {
     "data": {
      "image/png": "[encoded data removed]",
      "text/plain": [
       "<Figure size 640x480 with 1 Axes>"
      ]
     },
     "metadata": {},
     "output_type": "display_data"
    }
   ],
   "source": [
    "# target variable 'death_yn'\n",
    "sns.countplot(data=df, x='death_yn')\n",
    "plt.show()"
   ]
  },
  {
   "cell_type": "code",
   "execution_count": 48,
   "id": "0e4530c8",
   "metadata": {},
   "outputs": [
    {
     "data": {
      "text/plain": [
       "death_yn\n",
       "No     428610\n",
       "Yes     29169\n",
       "Name: count, dtype: int64"
      ]
     },
     "execution_count": 48,
     "metadata": {},
     "output_type": "execute_result"
    }
   ],
   "source": [
    "df['death_yn'].value_counts()"
   ]
  },
  {
   "cell_type": "code",
   "execution_count": 49,
   "id": "0eed483e",
   "metadata": {},
   "outputs": [
    {
     "data": {
      "image/png": "[encoded data removed]",
      "text/plain": [
       "<Figure size 1000x600 with 1 Axes>"
      ]
     },
     "metadata": {},
     "output_type": "display_data"
    }
   ],
   "source": [
    "# Cases from Covid-19 deaths are mostly Males\n",
    "plt.figure(figsize=(10,6), dpi=100)\n",
    "sns.countplot(data=df, y='sex', hue='death_yn')\n",
    "plt.legend(bbox_to_anchor=(1.15, 1.0))\n",
    "plt.title('Covid-19 deaths by Gender')\n",
    "plt.show()"
   ]
  },
  {
   "cell_type": "code",
   "execution_count": 66,
   "id": "ec12e9f8",
   "metadata": {},
   "outputs": [
    {
     "data": {
      "text/html": [
       "<div>\n",
       "<style scoped>\n",
       "    .dataframe tbody tr th:only-of-type {\n",
       "        vertical-align: middle;\n",
       "    }\n",
       "\n",
       "    .dataframe tbody tr th {\n",
       "        vertical-align: top;\n",
       "    }\n",
       "\n",
       "    .dataframe thead th {\n",
       "        text-align: right;\n",
       "    }\n",
       "</style>\n",
       "<table border=\"1\" class=\"dataframe\">\n",
       "  <thead>\n",
       "    <tr style=\"text-align: right;\">\n",
       "      <th></th>\n",
       "      <th></th>\n",
       "      <th>death_yn</th>\n",
       "    </tr>\n",
       "    <tr>\n",
       "      <th>sex</th>\n",
       "      <th>death_yn</th>\n",
       "      <th></th>\n",
       "    </tr>\n",
       "  </thead>\n",
       "  <tbody>\n",
       "    <tr>\n",
       "      <th rowspan=\"2\" valign=\"top\">Female</th>\n",
       "      <th>No</th>\n",
       "      <td>231012</td>\n",
       "    </tr>\n",
       "    <tr>\n",
       "      <th>Yes</th>\n",
       "      <td>12396</td>\n",
       "    </tr>\n",
       "    <tr>\n",
       "      <th rowspan=\"2\" valign=\"top\">Male</th>\n",
       "      <th>No</th>\n",
       "      <td>197550</td>\n",
       "    </tr>\n",
       "    <tr>\n",
       "      <th>Yes</th>\n",
       "      <td>16773</td>\n",
       "    </tr>\n",
       "    <tr>\n",
       "      <th>Other</th>\n",
       "      <th>No</th>\n",
       "      <td>48</td>\n",
       "    </tr>\n",
       "  </tbody>\n",
       "</table>\n",
       "</div>"
      ],
      "text/plain": [
       "                 death_yn\n",
       "sex    death_yn          \n",
       "Female No          231012\n",
       "       Yes          12396\n",
       "Male   No          197550\n",
       "       Yes          16773\n",
       "Other  No              48"
      ]
     },
     "execution_count": 66,
     "metadata": {},
     "output_type": "execute_result"
    }
   ],
   "source": [
    "# Fatalities = more Males\n",
    "pd.DataFrame(df.groupby(['sex','death_yn'])['death_yn'].count())"
   ]
  },
  {
   "cell_type": "code",
   "execution_count": 51,
   "id": "f7ba95ec",
   "metadata": {},
   "outputs": [
    {
     "data": {
      "image/png": "[encoded data removed]",
      "text/plain": [
       "<Figure size 1000x600 with 1 Axes>"
      ]
     },
     "metadata": {},
     "output_type": "display_data"
    }
   ],
   "source": [
    "plt.figure(figsize=(10,6),dpi=100)\n",
    "sns.countplot(data=df, y='age_group', hue='medcond_yn')\n",
    "plt.show()"
   ]
  },
  {
   "cell_type": "code",
   "execution_count": 52,
   "id": "90288dd4",
   "metadata": {},
   "outputs": [
    {
     "data": {
      "image/png": "[encoded data removed]",
      "text/plain": [
       "<Figure size 1000x600 with 1 Axes>"
      ]
     },
     "metadata": {},
     "output_type": "display_data"
    }
   ],
   "source": [
    "plt.figure(figsize=(10,6),dpi=100)\n",
    "sns.countplot(data=df, y='age_group', hue='death_yn')\n",
    "plt.title('Covid-19 deaths by Age')\n",
    "plt.show()"
   ]
  },
  {
   "cell_type": "code",
   "execution_count": 53,
   "id": "23e913ac",
   "metadata": {},
   "outputs": [
    {
     "data": {
      "text/html": [
       "<div>\n",
       "<style scoped>\n",
       "    .dataframe tbody tr th:only-of-type {\n",
       "        vertical-align: middle;\n",
       "    }\n",
       "\n",
       "    .dataframe tbody tr th {\n",
       "        vertical-align: top;\n",
       "    }\n",
       "\n",
       "    .dataframe thead th {\n",
       "        text-align: right;\n",
       "    }\n",
       "</style>\n",
       "<table border=\"1\" class=\"dataframe\">\n",
       "  <thead>\n",
       "    <tr style=\"text-align: right;\">\n",
       "      <th></th>\n",
       "      <th></th>\n",
       "      <th>death_yn</th>\n",
       "    </tr>\n",
       "    <tr>\n",
       "      <th>age_group</th>\n",
       "      <th>death_yn</th>\n",
       "      <th></th>\n",
       "    </tr>\n",
       "  </thead>\n",
       "  <tbody>\n",
       "    <tr>\n",
       "      <th rowspan=\"2\" valign=\"top\">0 - 9 Years</th>\n",
       "      <th>No</th>\n",
       "      <td>14412</td>\n",
       "    </tr>\n",
       "    <tr>\n",
       "      <th>Yes</th>\n",
       "      <td>19</td>\n",
       "    </tr>\n",
       "    <tr>\n",
       "      <th rowspan=\"2\" valign=\"top\">10 - 19 Years</th>\n",
       "      <th>No</th>\n",
       "      <td>44174</td>\n",
       "    </tr>\n",
       "    <tr>\n",
       "      <th>Yes</th>\n",
       "      <td>44</td>\n",
       "    </tr>\n",
       "    <tr>\n",
       "      <th rowspan=\"2\" valign=\"top\">20 - 29 Years</th>\n",
       "      <th>No</th>\n",
       "      <td>79501</td>\n",
       "    </tr>\n",
       "    <tr>\n",
       "      <th>Yes</th>\n",
       "      <td>175</td>\n",
       "    </tr>\n",
       "    <tr>\n",
       "      <th rowspan=\"2\" valign=\"top\">30 - 39 Years</th>\n",
       "      <th>No</th>\n",
       "      <td>65792</td>\n",
       "    </tr>\n",
       "    <tr>\n",
       "      <th>Yes</th>\n",
       "      <td>466</td>\n",
       "    </tr>\n",
       "    <tr>\n",
       "      <th rowspan=\"2\" valign=\"top\">40 - 49 Years</th>\n",
       "      <th>No</th>\n",
       "      <td>64660</td>\n",
       "    </tr>\n",
       "    <tr>\n",
       "      <th>Yes</th>\n",
       "      <td>1138</td>\n",
       "    </tr>\n",
       "    <tr>\n",
       "      <th rowspan=\"2\" valign=\"top\">50 - 59 Years</th>\n",
       "      <th>No</th>\n",
       "      <td>66618</td>\n",
       "    </tr>\n",
       "    <tr>\n",
       "      <th>Yes</th>\n",
       "      <td>3035</td>\n",
       "    </tr>\n",
       "    <tr>\n",
       "      <th rowspan=\"2\" valign=\"top\">60 - 69 Years</th>\n",
       "      <th>No</th>\n",
       "      <td>49686</td>\n",
       "    </tr>\n",
       "    <tr>\n",
       "      <th>Yes</th>\n",
       "      <td>5855</td>\n",
       "    </tr>\n",
       "    <tr>\n",
       "      <th rowspan=\"2\" valign=\"top\">70 - 79 Years</th>\n",
       "      <th>No</th>\n",
       "      <td>27805</td>\n",
       "    </tr>\n",
       "    <tr>\n",
       "      <th>Yes</th>\n",
       "      <td>7427</td>\n",
       "    </tr>\n",
       "    <tr>\n",
       "      <th rowspan=\"2\" valign=\"top\">80+ Years</th>\n",
       "      <th>No</th>\n",
       "      <td>15962</td>\n",
       "    </tr>\n",
       "    <tr>\n",
       "      <th>Yes</th>\n",
       "      <td>11010</td>\n",
       "    </tr>\n",
       "  </tbody>\n",
       "</table>\n",
       "</div>"
      ],
      "text/plain": [
       "                        death_yn\n",
       "age_group     death_yn          \n",
       "0 - 9 Years   No           14412\n",
       "              Yes             19\n",
       "10 - 19 Years No           44174\n",
       "              Yes             44\n",
       "20 - 29 Years No           79501\n",
       "              Yes            175\n",
       "30 - 39 Years No           65792\n",
       "              Yes            466\n",
       "40 - 49 Years No           64660\n",
       "              Yes           1138\n",
       "50 - 59 Years No           66618\n",
       "              Yes           3035\n",
       "60 - 69 Years No           49686\n",
       "              Yes           5855\n",
       "70 - 79 Years No           27805\n",
       "              Yes           7427\n",
       "80+ Years     No           15962\n",
       "              Yes          11010"
      ]
     },
     "execution_count": 53,
     "metadata": {},
     "output_type": "execute_result"
    }
   ],
   "source": [
    "# the older you are, the more fatal Covid-19 is, from 60 years onwards\n",
    "pd.DataFrame(df.groupby(['age_group','death_yn'])['death_yn'].count())"
   ]
  },
  {
   "cell_type": "code",
   "execution_count": 54,
   "id": "8f33abaa",
   "metadata": {},
   "outputs": [
    {
     "data": {
      "image/png": "[encoded data removed]",
      "text/plain": [
       "<Figure size 640x480 with 1 Axes>"
      ]
     },
     "metadata": {},
     "output_type": "display_data"
    }
   ],
   "source": [
    "# more Females are Laboratory confirmed cases for Covid-19\n",
    "sns.countplot(data=df, y='current_status', hue='sex')\n",
    "plt.show()"
   ]
  },
  {
   "cell_type": "code",
   "execution_count": 55,
   "id": "09f79d7d",
   "metadata": {},
   "outputs": [
    {
     "data": {
      "image/png": "[encoded data removed]",
      "text/plain": [
       "<Figure size 640x480 with 1 Axes>"
      ]
     },
     "metadata": {},
     "output_type": "display_data"
    }
   ],
   "source": [
    "# Highest mortalities rates from White(Non-hispanic),Black(Non-Hispanic), Hispanic/Latino \n",
    "sns.countplot(data=df, y='Race and ethnicity (combined)', hue ='death_yn')\n",
    "plt.legend(bbox_to_anchor=(1.1,1.2))\n",
    "plt.title('Ethnicity Vs Covid-19 death rates')\n",
    "plt.show()"
   ]
  },
  {
   "cell_type": "code",
   "execution_count": 56,
   "id": "d852c727",
   "metadata": {},
   "outputs": [
    {
     "data": {
      "image/png": "[encoded data removed]",
      "text/plain": [
       "<Figure size 1000x500 with 1 Axes>"
      ]
     },
     "metadata": {},
     "output_type": "display_data"
    }
   ],
   "source": [
    "# more cases of Covid-19 death rates are associated with being Hospitalised\n",
    "plt.figure(figsize=(10,5),dpi=100)\n",
    "sns.countplot(data=df, y='hosp_yn', hue ='death_yn')\n",
    "plt.legend(bbox_to_anchor=(1.05,1.0))\n",
    "plt.title('Hospitalization Vs Covid-19 death rates')\n",
    "plt.show()"
   ]
  },
  {
   "cell_type": "code",
   "execution_count": 57,
   "id": "6ab2629e",
   "metadata": {},
   "outputs": [
    {
     "data": {
      "image/png": "[encoded data removed]",
      "text/plain": [
       "<Figure size 1000x600 with 1 Axes>"
      ]
     },
     "metadata": {},
     "output_type": "display_data"
    }
   ],
   "source": [
    "plt.figure(figsize=(10,6),dpi=100)\n",
    "sns.countplot(data=df, x='Month', hue ='death_yn')\n",
    "plt.legend(bbox_to_anchor=(1.15,1.0))\n",
    "plt.title('Covid-19 death by Month')\n",
    "plt.show()"
   ]
  },
  {
   "cell_type": "code",
   "execution_count": 58,
   "id": "026c2149",
   "metadata": {},
   "outputs": [
    {
     "data": {
      "text/html": [
       "<div>\n",
       "<style scoped>\n",
       "    .dataframe tbody tr th:only-of-type {\n",
       "        vertical-align: middle;\n",
       "    }\n",
       "\n",
       "    .dataframe tbody tr th {\n",
       "        vertical-align: top;\n",
       "    }\n",
       "\n",
       "    .dataframe thead th {\n",
       "        text-align: right;\n",
       "    }\n",
       "</style>\n",
       "<table border=\"1\" class=\"dataframe\">\n",
       "  <thead>\n",
       "    <tr style=\"text-align: right;\">\n",
       "      <th></th>\n",
       "      <th></th>\n",
       "      <th>death_yn</th>\n",
       "    </tr>\n",
       "    <tr>\n",
       "      <th>Month</th>\n",
       "      <th>death_yn</th>\n",
       "      <th></th>\n",
       "    </tr>\n",
       "  </thead>\n",
       "  <tbody>\n",
       "    <tr>\n",
       "      <th rowspan=\"2\" valign=\"top\">April</th>\n",
       "      <th>No</th>\n",
       "      <td>26916</td>\n",
       "    </tr>\n",
       "    <tr>\n",
       "      <th>Yes</th>\n",
       "      <td>5574</td>\n",
       "    </tr>\n",
       "    <tr>\n",
       "      <th rowspan=\"2\" valign=\"top\">August</th>\n",
       "      <th>No</th>\n",
       "      <td>60987</td>\n",
       "    </tr>\n",
       "    <tr>\n",
       "      <th>Yes</th>\n",
       "      <td>2057</td>\n",
       "    </tr>\n",
       "    <tr>\n",
       "      <th rowspan=\"2\" valign=\"top\">February</th>\n",
       "      <th>No</th>\n",
       "      <td>54</td>\n",
       "    </tr>\n",
       "    <tr>\n",
       "      <th>Yes</th>\n",
       "      <td>16</td>\n",
       "    </tr>\n",
       "    <tr>\n",
       "      <th>January</th>\n",
       "      <th>No</th>\n",
       "      <td>16</td>\n",
       "    </tr>\n",
       "    <tr>\n",
       "      <th rowspan=\"2\" valign=\"top\">July</th>\n",
       "      <th>No</th>\n",
       "      <td>61244</td>\n",
       "    </tr>\n",
       "    <tr>\n",
       "      <th>Yes</th>\n",
       "      <td>2524</td>\n",
       "    </tr>\n",
       "    <tr>\n",
       "      <th rowspan=\"2\" valign=\"top\">June</th>\n",
       "      <th>No</th>\n",
       "      <td>41503</td>\n",
       "    </tr>\n",
       "    <tr>\n",
       "      <th>Yes</th>\n",
       "      <td>8381</td>\n",
       "    </tr>\n",
       "    <tr>\n",
       "      <th rowspan=\"2\" valign=\"top\">March</th>\n",
       "      <th>No</th>\n",
       "      <td>8306</td>\n",
       "    </tr>\n",
       "    <tr>\n",
       "      <th>Yes</th>\n",
       "      <td>2925</td>\n",
       "    </tr>\n",
       "    <tr>\n",
       "      <th rowspan=\"2\" valign=\"top\">May</th>\n",
       "      <th>No</th>\n",
       "      <td>32144</td>\n",
       "    </tr>\n",
       "    <tr>\n",
       "      <th>Yes</th>\n",
       "      <td>3374</td>\n",
       "    </tr>\n",
       "    <tr>\n",
       "      <th rowspan=\"2\" valign=\"top\">November</th>\n",
       "      <th>No</th>\n",
       "      <td>69305</td>\n",
       "    </tr>\n",
       "    <tr>\n",
       "      <th>Yes</th>\n",
       "      <td>1023</td>\n",
       "    </tr>\n",
       "    <tr>\n",
       "      <th rowspan=\"2\" valign=\"top\">October</th>\n",
       "      <th>No</th>\n",
       "      <td>76160</td>\n",
       "    </tr>\n",
       "    <tr>\n",
       "      <th>Yes</th>\n",
       "      <td>1900</td>\n",
       "    </tr>\n",
       "    <tr>\n",
       "      <th rowspan=\"2\" valign=\"top\">September</th>\n",
       "      <th>No</th>\n",
       "      <td>51975</td>\n",
       "    </tr>\n",
       "    <tr>\n",
       "      <th>Yes</th>\n",
       "      <td>1395</td>\n",
       "    </tr>\n",
       "  </tbody>\n",
       "</table>\n",
       "</div>"
      ],
      "text/plain": [
       "                    death_yn\n",
       "Month     death_yn          \n",
       "April     No           26916\n",
       "          Yes           5574\n",
       "August    No           60987\n",
       "          Yes           2057\n",
       "February  No              54\n",
       "          Yes             16\n",
       "January   No              16\n",
       "July      No           61244\n",
       "          Yes           2524\n",
       "June      No           41503\n",
       "          Yes           8381\n",
       "March     No            8306\n",
       "          Yes           2925\n",
       "May       No           32144\n",
       "          Yes           3374\n",
       "November  No           69305\n",
       "          Yes           1023\n",
       "October   No           76160\n",
       "          Yes           1900\n",
       "September No           51975\n",
       "          Yes           1395"
      ]
     },
     "execution_count": 58,
     "metadata": {},
     "output_type": "execute_result"
    }
   ],
   "source": [
    "# More Covid-19 deaths were observed in May, June, April and Mar\n",
    "pd.DataFrame(df.groupby(['Month','death_yn'])['death_yn'].count())"
   ]
  },
  {
   "cell_type": "code",
   "execution_count": 59,
   "id": "7f3b1805",
   "metadata": {},
   "outputs": [
    {
     "data": {
      "image/png": "[encoded data removed]",
      "text/plain": [
       "<Figure size 640x480 with 1 Axes>"
      ]
     },
     "metadata": {},
     "output_type": "display_data"
    }
   ],
   "source": [
    "sns.countplot(data=df, y='current_status', hue='hosp_yn')\n",
    "plt.legend(bbox_to_anchor=(1.05, 1.0))\n",
    "plt.title('Hospitalization Vs Current Status')\n",
    "plt.show()"
   ]
  },
  {
   "cell_type": "code",
   "execution_count": 60,
   "id": "f1c81bba",
   "metadata": {},
   "outputs": [
    {
     "data": {
      "image/png": "[encoded data removed]",
      "text/plain": [
       "<Figure size 640x480 with 1 Axes>"
      ]
     },
     "metadata": {},
     "output_type": "display_data"
    }
   ],
   "source": [
    "# More Covid-19 death cases are associated with Lab confirmed cases\n",
    "sns.countplot(data=df, y='current_status', hue='death_yn')\n",
    "plt.legend(bbox_to_anchor=(1.05, 1.0))\n",
    "plt.title('Covid-19 Deaths Vs Current Status')\n",
    "plt.show()"
   ]
  },
  {
   "cell_type": "code",
   "execution_count": 67,
   "id": "ca62833d",
   "metadata": {},
   "outputs": [
    {
     "data": {
      "text/html": [
       "<div>\n",
       "<style scoped>\n",
       "    .dataframe tbody tr th:only-of-type {\n",
       "        vertical-align: middle;\n",
       "    }\n",
       "\n",
       "    .dataframe tbody tr th {\n",
       "        vertical-align: top;\n",
       "    }\n",
       "\n",
       "    .dataframe thead th {\n",
       "        text-align: right;\n",
       "    }\n",
       "</style>\n",
       "<table border=\"1\" class=\"dataframe\">\n",
       "  <thead>\n",
       "    <tr style=\"text-align: right;\">\n",
       "      <th></th>\n",
       "      <th>current_status</th>\n",
       "      <th>sex</th>\n",
       "      <th>age_group</th>\n",
       "      <th>Race and ethnicity (combined)</th>\n",
       "      <th>hosp_yn</th>\n",
       "      <th>icu_yn</th>\n",
       "      <th>death_yn</th>\n",
       "      <th>medcond_yn</th>\n",
       "      <th>Year</th>\n",
       "      <th>Month</th>\n",
       "    </tr>\n",
       "  </thead>\n",
       "  <tbody>\n",
       "    <tr>\n",
       "      <th>1</th>\n",
       "      <td>Laboratory-confirmed case</td>\n",
       "      <td>Male</td>\n",
       "      <td>10 - 19 Years</td>\n",
       "      <td>Black, Non-Hispanic</td>\n",
       "      <td>No</td>\n",
       "      <td>No</td>\n",
       "      <td>No</td>\n",
       "      <td>No</td>\n",
       "      <td>2020</td>\n",
       "      <td>November</td>\n",
       "    </tr>\n",
       "    <tr>\n",
       "      <th>2</th>\n",
       "      <td>Laboratory-confirmed case</td>\n",
       "      <td>Male</td>\n",
       "      <td>10 - 19 Years</td>\n",
       "      <td>Black, Non-Hispanic</td>\n",
       "      <td>No</td>\n",
       "      <td>No</td>\n",
       "      <td>No</td>\n",
       "      <td>No</td>\n",
       "      <td>2020</td>\n",
       "      <td>November</td>\n",
       "    </tr>\n",
       "    <tr>\n",
       "      <th>4</th>\n",
       "      <td>Laboratory-confirmed case</td>\n",
       "      <td>Male</td>\n",
       "      <td>10 - 19 Years</td>\n",
       "      <td>Black, Non-Hispanic</td>\n",
       "      <td>No</td>\n",
       "      <td>No</td>\n",
       "      <td>No</td>\n",
       "      <td>Yes</td>\n",
       "      <td>2020</td>\n",
       "      <td>November</td>\n",
       "    </tr>\n",
       "    <tr>\n",
       "      <th>11</th>\n",
       "      <td>Laboratory-confirmed case</td>\n",
       "      <td>Male</td>\n",
       "      <td>10 - 19 Years</td>\n",
       "      <td>Black, Non-Hispanic</td>\n",
       "      <td>No</td>\n",
       "      <td>No</td>\n",
       "      <td>No</td>\n",
       "      <td>No</td>\n",
       "      <td>2020</td>\n",
       "      <td>November</td>\n",
       "    </tr>\n",
       "    <tr>\n",
       "      <th>14</th>\n",
       "      <td>Laboratory-confirmed case</td>\n",
       "      <td>Male</td>\n",
       "      <td>10 - 19 Years</td>\n",
       "      <td>Black, Non-Hispanic</td>\n",
       "      <td>No</td>\n",
       "      <td>No</td>\n",
       "      <td>No</td>\n",
       "      <td>Yes</td>\n",
       "      <td>2020</td>\n",
       "      <td>November</td>\n",
       "    </tr>\n",
       "  </tbody>\n",
       "</table>\n",
       "</div>"
      ],
      "text/plain": [
       "               current_status   sex      age_group  \\\n",
       "1   Laboratory-confirmed case  Male  10 - 19 Years   \n",
       "2   Laboratory-confirmed case  Male  10 - 19 Years   \n",
       "4   Laboratory-confirmed case  Male  10 - 19 Years   \n",
       "11  Laboratory-confirmed case  Male  10 - 19 Years   \n",
       "14  Laboratory-confirmed case  Male  10 - 19 Years   \n",
       "\n",
       "   Race and ethnicity (combined) hosp_yn icu_yn death_yn medcond_yn  Year  \\\n",
       "1            Black, Non-Hispanic      No     No       No         No  2020   \n",
       "2            Black, Non-Hispanic      No     No       No         No  2020   \n",
       "4            Black, Non-Hispanic      No     No       No        Yes  2020   \n",
       "11           Black, Non-Hispanic      No     No       No         No  2020   \n",
       "14           Black, Non-Hispanic      No     No       No        Yes  2020   \n",
       "\n",
       "       Month  \n",
       "1   November  \n",
       "2   November  \n",
       "4   November  \n",
       "11  November  \n",
       "14  November  "
      ]
     },
     "execution_count": 67,
     "metadata": {},
     "output_type": "execute_result"
    }
   ],
   "source": [
    "## predictive modelling\n",
    "df.head()"
   ]
  },
  {
   "cell_type": "code",
   "execution_count": 68,
   "id": "d281c301",
   "metadata": {},
   "outputs": [],
   "source": [
    "# to define X and y\n",
    "X = df.drop('death_yn', axis=1)"
   ]
  },
  {
   "cell_type": "code",
   "execution_count": 69,
   "id": "5d621e98",
   "metadata": {},
   "outputs": [],
   "source": [
    "# to convert all categorical variables in dummy variables before machine learning\n",
    "X = pd.get_dummies(X, drop_first=True)"
   ]
  },
  {
   "cell_type": "code",
   "execution_count": 70,
   "id": "8a5d01bc",
   "metadata": {},
   "outputs": [
    {
     "data": {
      "text/html": [
       "<div>\n",
       "<style scoped>\n",
       "    .dataframe tbody tr th:only-of-type {\n",
       "        vertical-align: middle;\n",
       "    }\n",
       "\n",
       "    .dataframe tbody tr th {\n",
       "        vertical-align: top;\n",
       "    }\n",
       "\n",
       "    .dataframe thead th {\n",
       "        text-align: right;\n",
       "    }\n",
       "</style>\n",
       "<table border=\"1\" class=\"dataframe\">\n",
       "  <thead>\n",
       "    <tr style=\"text-align: right;\">\n",
       "      <th></th>\n",
       "      <th>Year</th>\n",
       "      <th>current_status_Probable Case</th>\n",
       "      <th>sex_Male</th>\n",
       "      <th>sex_Other</th>\n",
       "      <th>age_group_10 - 19 Years</th>\n",
       "      <th>age_group_20 - 29 Years</th>\n",
       "      <th>age_group_30 - 39 Years</th>\n",
       "      <th>age_group_40 - 49 Years</th>\n",
       "      <th>age_group_50 - 59 Years</th>\n",
       "      <th>age_group_60 - 69 Years</th>\n",
       "      <th>...</th>\n",
       "      <th>Month_August</th>\n",
       "      <th>Month_February</th>\n",
       "      <th>Month_January</th>\n",
       "      <th>Month_July</th>\n",
       "      <th>Month_June</th>\n",
       "      <th>Month_March</th>\n",
       "      <th>Month_May</th>\n",
       "      <th>Month_November</th>\n",
       "      <th>Month_October</th>\n",
       "      <th>Month_September</th>\n",
       "    </tr>\n",
       "  </thead>\n",
       "  <tbody>\n",
       "    <tr>\n",
       "      <th>1</th>\n",
       "      <td>2020</td>\n",
       "      <td>False</td>\n",
       "      <td>True</td>\n",
       "      <td>False</td>\n",
       "      <td>True</td>\n",
       "      <td>False</td>\n",
       "      <td>False</td>\n",
       "      <td>False</td>\n",
       "      <td>False</td>\n",
       "      <td>False</td>\n",
       "      <td>...</td>\n",
       "      <td>False</td>\n",
       "      <td>False</td>\n",
       "      <td>False</td>\n",
       "      <td>False</td>\n",
       "      <td>False</td>\n",
       "      <td>False</td>\n",
       "      <td>False</td>\n",
       "      <td>True</td>\n",
       "      <td>False</td>\n",
       "      <td>False</td>\n",
       "    </tr>\n",
       "    <tr>\n",
       "      <th>2</th>\n",
       "      <td>2020</td>\n",
       "      <td>False</td>\n",
       "      <td>True</td>\n",
       "      <td>False</td>\n",
       "      <td>True</td>\n",
       "      <td>False</td>\n",
       "      <td>False</td>\n",
       "      <td>False</td>\n",
       "      <td>False</td>\n",
       "      <td>False</td>\n",
       "      <td>...</td>\n",
       "      <td>False</td>\n",
       "      <td>False</td>\n",
       "      <td>False</td>\n",
       "      <td>False</td>\n",
       "      <td>False</td>\n",
       "      <td>False</td>\n",
       "      <td>False</td>\n",
       "      <td>True</td>\n",
       "      <td>False</td>\n",
       "      <td>False</td>\n",
       "    </tr>\n",
       "    <tr>\n",
       "      <th>4</th>\n",
       "      <td>2020</td>\n",
       "      <td>False</td>\n",
       "      <td>True</td>\n",
       "      <td>False</td>\n",
       "      <td>True</td>\n",
       "      <td>False</td>\n",
       "      <td>False</td>\n",
       "      <td>False</td>\n",
       "      <td>False</td>\n",
       "      <td>False</td>\n",
       "      <td>...</td>\n",
       "      <td>False</td>\n",
       "      <td>False</td>\n",
       "      <td>False</td>\n",
       "      <td>False</td>\n",
       "      <td>False</td>\n",
       "      <td>False</td>\n",
       "      <td>False</td>\n",
       "      <td>True</td>\n",
       "      <td>False</td>\n",
       "      <td>False</td>\n",
       "    </tr>\n",
       "    <tr>\n",
       "      <th>11</th>\n",
       "      <td>2020</td>\n",
       "      <td>False</td>\n",
       "      <td>True</td>\n",
       "      <td>False</td>\n",
       "      <td>True</td>\n",
       "      <td>False</td>\n",
       "      <td>False</td>\n",
       "      <td>False</td>\n",
       "      <td>False</td>\n",
       "      <td>False</td>\n",
       "      <td>...</td>\n",
       "      <td>False</td>\n",
       "      <td>False</td>\n",
       "      <td>False</td>\n",
       "      <td>False</td>\n",
       "      <td>False</td>\n",
       "      <td>False</td>\n",
       "      <td>False</td>\n",
       "      <td>True</td>\n",
       "      <td>False</td>\n",
       "      <td>False</td>\n",
       "    </tr>\n",
       "    <tr>\n",
       "      <th>14</th>\n",
       "      <td>2020</td>\n",
       "      <td>False</td>\n",
       "      <td>True</td>\n",
       "      <td>False</td>\n",
       "      <td>True</td>\n",
       "      <td>False</td>\n",
       "      <td>False</td>\n",
       "      <td>False</td>\n",
       "      <td>False</td>\n",
       "      <td>False</td>\n",
       "      <td>...</td>\n",
       "      <td>False</td>\n",
       "      <td>False</td>\n",
       "      <td>False</td>\n",
       "      <td>False</td>\n",
       "      <td>False</td>\n",
       "      <td>False</td>\n",
       "      <td>False</td>\n",
       "      <td>True</td>\n",
       "      <td>False</td>\n",
       "      <td>False</td>\n",
       "    </tr>\n",
       "    <tr>\n",
       "      <th>...</th>\n",
       "      <td>...</td>\n",
       "      <td>...</td>\n",
       "      <td>...</td>\n",
       "      <td>...</td>\n",
       "      <td>...</td>\n",
       "      <td>...</td>\n",
       "      <td>...</td>\n",
       "      <td>...</td>\n",
       "      <td>...</td>\n",
       "      <td>...</td>\n",
       "      <td>...</td>\n",
       "      <td>...</td>\n",
       "      <td>...</td>\n",
       "      <td>...</td>\n",
       "      <td>...</td>\n",
       "      <td>...</td>\n",
       "      <td>...</td>\n",
       "      <td>...</td>\n",
       "      <td>...</td>\n",
       "      <td>...</td>\n",
       "      <td>...</td>\n",
       "    </tr>\n",
       "    <tr>\n",
       "      <th>8404296</th>\n",
       "      <td>2020</td>\n",
       "      <td>False</td>\n",
       "      <td>False</td>\n",
       "      <td>False</td>\n",
       "      <td>False</td>\n",
       "      <td>False</td>\n",
       "      <td>True</td>\n",
       "      <td>False</td>\n",
       "      <td>False</td>\n",
       "      <td>False</td>\n",
       "      <td>...</td>\n",
       "      <td>False</td>\n",
       "      <td>False</td>\n",
       "      <td>False</td>\n",
       "      <td>False</td>\n",
       "      <td>False</td>\n",
       "      <td>False</td>\n",
       "      <td>False</td>\n",
       "      <td>True</td>\n",
       "      <td>False</td>\n",
       "      <td>False</td>\n",
       "    </tr>\n",
       "    <tr>\n",
       "      <th>8404365</th>\n",
       "      <td>2020</td>\n",
       "      <td>False</td>\n",
       "      <td>False</td>\n",
       "      <td>False</td>\n",
       "      <td>False</td>\n",
       "      <td>False</td>\n",
       "      <td>True</td>\n",
       "      <td>False</td>\n",
       "      <td>False</td>\n",
       "      <td>False</td>\n",
       "      <td>...</td>\n",
       "      <td>False</td>\n",
       "      <td>False</td>\n",
       "      <td>False</td>\n",
       "      <td>False</td>\n",
       "      <td>True</td>\n",
       "      <td>False</td>\n",
       "      <td>False</td>\n",
       "      <td>False</td>\n",
       "      <td>False</td>\n",
       "      <td>False</td>\n",
       "    </tr>\n",
       "    <tr>\n",
       "      <th>8404392</th>\n",
       "      <td>2020</td>\n",
       "      <td>False</td>\n",
       "      <td>False</td>\n",
       "      <td>False</td>\n",
       "      <td>False</td>\n",
       "      <td>False</td>\n",
       "      <td>True</td>\n",
       "      <td>False</td>\n",
       "      <td>False</td>\n",
       "      <td>False</td>\n",
       "      <td>...</td>\n",
       "      <td>False</td>\n",
       "      <td>False</td>\n",
       "      <td>False</td>\n",
       "      <td>False</td>\n",
       "      <td>False</td>\n",
       "      <td>False</td>\n",
       "      <td>True</td>\n",
       "      <td>False</td>\n",
       "      <td>False</td>\n",
       "      <td>False</td>\n",
       "    </tr>\n",
       "    <tr>\n",
       "      <th>8404461</th>\n",
       "      <td>2020</td>\n",
       "      <td>True</td>\n",
       "      <td>False</td>\n",
       "      <td>False</td>\n",
       "      <td>False</td>\n",
       "      <td>False</td>\n",
       "      <td>True</td>\n",
       "      <td>False</td>\n",
       "      <td>False</td>\n",
       "      <td>False</td>\n",
       "      <td>...</td>\n",
       "      <td>False</td>\n",
       "      <td>False</td>\n",
       "      <td>False</td>\n",
       "      <td>False</td>\n",
       "      <td>True</td>\n",
       "      <td>False</td>\n",
       "      <td>False</td>\n",
       "      <td>False</td>\n",
       "      <td>False</td>\n",
       "      <td>False</td>\n",
       "    </tr>\n",
       "    <tr>\n",
       "      <th>8404559</th>\n",
       "      <td>2020</td>\n",
       "      <td>False</td>\n",
       "      <td>False</td>\n",
       "      <td>False</td>\n",
       "      <td>False</td>\n",
       "      <td>False</td>\n",
       "      <td>True</td>\n",
       "      <td>False</td>\n",
       "      <td>False</td>\n",
       "      <td>False</td>\n",
       "      <td>...</td>\n",
       "      <td>False</td>\n",
       "      <td>False</td>\n",
       "      <td>False</td>\n",
       "      <td>True</td>\n",
       "      <td>False</td>\n",
       "      <td>False</td>\n",
       "      <td>False</td>\n",
       "      <td>False</td>\n",
       "      <td>False</td>\n",
       "      <td>False</td>\n",
       "    </tr>\n",
       "  </tbody>\n",
       "</table>\n",
       "<p>457779 rows × 31 columns</p>\n",
       "</div>"
      ],
      "text/plain": [
       "         Year  current_status_Probable Case  sex_Male  sex_Other  \\\n",
       "1        2020                         False      True      False   \n",
       "2        2020                         False      True      False   \n",
       "4        2020                         False      True      False   \n",
       "11       2020                         False      True      False   \n",
       "14       2020                         False      True      False   \n",
       "...       ...                           ...       ...        ...   \n",
       "8404296  2020                         False     False      False   \n",
       "8404365  2020                         False     False      False   \n",
       "8404392  2020                         False     False      False   \n",
       "8404461  2020                          True     False      False   \n",
       "8404559  2020                         False     False      False   \n",
       "\n",
       "         age_group_10 - 19 Years  age_group_20 - 29 Years  \\\n",
       "1                           True                    False   \n",
       "2                           True                    False   \n",
       "4                           True                    False   \n",
       "11                          True                    False   \n",
       "14                          True                    False   \n",
       "...                          ...                      ...   \n",
       "8404296                    False                    False   \n",
       "8404365                    False                    False   \n",
       "8404392                    False                    False   \n",
       "8404461                    False                    False   \n",
       "8404559                    False                    False   \n",
       "\n",
       "         age_group_30 - 39 Years  age_group_40 - 49 Years  \\\n",
       "1                          False                    False   \n",
       "2                          False                    False   \n",
       "4                          False                    False   \n",
       "11                         False                    False   \n",
       "14                         False                    False   \n",
       "...                          ...                      ...   \n",
       "8404296                     True                    False   \n",
       "8404365                     True                    False   \n",
       "8404392                     True                    False   \n",
       "8404461                     True                    False   \n",
       "8404559                     True                    False   \n",
       "\n",
       "         age_group_50 - 59 Years  age_group_60 - 69 Years  ...  Month_August  \\\n",
       "1                          False                    False  ...         False   \n",
       "2                          False                    False  ...         False   \n",
       "4                          False                    False  ...         False   \n",
       "11                         False                    False  ...         False   \n",
       "14                         False                    False  ...         False   \n",
       "...                          ...                      ...  ...           ...   \n",
       "8404296                    False                    False  ...         False   \n",
       "8404365                    False                    False  ...         False   \n",
       "8404392                    False                    False  ...         False   \n",
       "8404461                    False                    False  ...         False   \n",
       "8404559                    False                    False  ...         False   \n",
       "\n",
       "         Month_February  Month_January  Month_July  Month_June  Month_March  \\\n",
       "1                 False          False       False       False        False   \n",
       "2                 False          False       False       False        False   \n",
       "4                 False          False       False       False        False   \n",
       "11                False          False       False       False        False   \n",
       "14                False          False       False       False        False   \n",
       "...                 ...            ...         ...         ...          ...   \n",
       "8404296           False          False       False       False        False   \n",
       "8404365           False          False       False        True        False   \n",
       "8404392           False          False       False       False        False   \n",
       "8404461           False          False       False        True        False   \n",
       "8404559           False          False        True       False        False   \n",
       "\n",
       "         Month_May  Month_November  Month_October  Month_September  \n",
       "1            False            True          False            False  \n",
       "2            False            True          False            False  \n",
       "4            False            True          False            False  \n",
       "11           False            True          False            False  \n",
       "14           False            True          False            False  \n",
       "...            ...             ...            ...              ...  \n",
       "8404296      False            True          False            False  \n",
       "8404365      False           False          False            False  \n",
       "8404392       True           False          False            False  \n",
       "8404461      False           False          False            False  \n",
       "8404559      False           False          False            False  \n",
       "\n",
       "[457779 rows x 31 columns]"
      ]
     },
     "execution_count": 70,
     "metadata": {},
     "output_type": "execute_result"
    }
   ],
   "source": [
    "# to double check if dummy variables has been created\n",
    "X"
   ]
  },
  {
   "cell_type": "code",
   "execution_count": 71,
   "id": "444372bb",
   "metadata": {},
   "outputs": [],
   "source": [
    "y = df['death_yn']"
   ]
  },
  {
   "cell_type": "code",
   "execution_count": 72,
   "id": "5ccdc2a3",
   "metadata": {},
   "outputs": [],
   "source": [
    "from sklearn.model_selection import train_test_split"
   ]
  },
  {
   "cell_type": "code",
   "execution_count": 74,
   "id": "fe2cf311",
   "metadata": {},
   "outputs": [],
   "source": [
    "# testing set = 30%\n",
    "X_train, X_test, y_train, y_test = train_test_split(X, y, test_size=0.3, random_state=101)"
   ]
  },
  {
   "cell_type": "code",
   "execution_count": 75,
   "id": "52bb64db",
   "metadata": {},
   "outputs": [],
   "source": [
    "from sklearn.preprocessing import MinMaxScaler"
   ]
  },
  {
   "cell_type": "code",
   "execution_count": 76,
   "id": "a8921058",
   "metadata": {},
   "outputs": [],
   "source": [
    "scaler = MinMaxScaler()"
   ]
  },
  {
   "cell_type": "code",
   "execution_count": 77,
   "id": "aa0b43d1",
   "metadata": {},
   "outputs": [],
   "source": [
    "scaled_X_train = scaler.fit_transform(X_train)"
   ]
  },
  {
   "cell_type": "code",
   "execution_count": 78,
   "id": "f3194b45",
   "metadata": {},
   "outputs": [],
   "source": [
    "scaled_X_test = scaler.transform(X_test)"
   ]
  },
  {
   "cell_type": "code",
   "execution_count": 79,
   "id": "70febf5e",
   "metadata": {},
   "outputs": [],
   "source": [
    "# to overcome Class Imbalance using SMOTE technique for target variable 'death_yn'\n",
    "from imblearn.over_sampling import SMOTE"
   ]
  },
  {
   "cell_type": "code",
   "execution_count": 80,
   "id": "40c1d9c6",
   "metadata": {},
   "outputs": [
    {
     "name": "stdout",
     "output_type": "stream",
     "text": [
      "Number transactions y_train dataset:  (320445,)\n",
      "Number transactions y_test dataset:  (137334,)\n"
     ]
    }
   ],
   "source": [
    "print(\"Number transactions y_train dataset: \", y_train.shape)\n",
    "print(\"Number transactions y_test dataset: \", y_test.shape)"
   ]
  },
  {
   "cell_type": "code",
   "execution_count": 81,
   "id": "367a68fb",
   "metadata": {},
   "outputs": [
    {
     "name": "stdout",
     "output_type": "stream",
     "text": [
      "Before OverSampling, counts of label 'Yes': 20359\n",
      "Before OverSampling, counts of label 'No': 300086 \n",
      "\n",
      "After OverSampling, the shape of train_X: (600172, 31)\n",
      "After OverSampling, the shape of train_y: (600172,) \n",
      "\n",
      "After OverSampling, counts of label 'Yes': 300086\n",
      "After OverSampling, counts of label 'No': 300086\n"
     ]
    }
   ],
   "source": [
    "# to Oversample 'death-yn' in y_train set\n",
    "print(\"Before OverSampling, counts of label 'Yes': {}\".format(sum(y_train==\"Yes\")))\n",
    "print(\"Before OverSampling, counts of label 'No': {} \\n\".format(sum(y_train==\"No\")))\n",
    "\n",
    "sm = SMOTE()\n",
    "X_train_res, y_train_res = sm.fit_resample(scaled_X_train, y_train)\n",
    "\n",
    "print('After OverSampling, the shape of train_X: {}'.format(X_train_res.shape))\n",
    "print('After OverSampling, the shape of train_y: {} \\n'.format(y_train_res.shape))\n",
    "\n",
    "print(\"After OverSampling, counts of label 'Yes': {}\".format(sum(y_train_res==\"Yes\")))\n",
    "print(\"After OverSampling, counts of label 'No': {}\".format(sum(y_train_res==\"No\")))"
   ]
  },
  {
   "cell_type": "code",
   "execution_count": 82,
   "id": "92d26998",
   "metadata": {},
   "outputs": [],
   "source": [
    "# to import logistic Regression\n",
    "from sklearn.linear_model import LogisticRegression"
   ]
  },
  {
   "cell_type": "code",
   "execution_count": 83,
   "id": "ba284018",
   "metadata": {},
   "outputs": [],
   "source": [
    "log_model = LogisticRegression()"
   ]
  },
  {
   "cell_type": "code",
   "execution_count": 84,
   "id": "d2442345",
   "metadata": {},
   "outputs": [
    {
     "name": "stderr",
     "output_type": "stream",
     "text": [
      "C:\\Users\\miche\\anaconda3\\Lib\\site-packages\\sklearn\\linear_model\\_logistic.py:458: ConvergenceWarning: lbfgs failed to converge (status=1):\n",
      "STOP: TOTAL NO. of ITERATIONS REACHED LIMIT.\n",
      "\n",
      "Increase the number of iterations (max_iter) or scale the data as shown in:\n",
      "    https://scikit-learn.org/stable/modules/preprocessing.html\n",
      "Please also refer to the documentation for alternative solver options:\n",
      "    https://scikit-learn.org/stable/modules/linear_model.html#logistic-regression\n",
      "  n_iter_i = _check_optimize_result(\n"
     ]
    },
    {
     "data": {
      "text/html": [
       "<style>#sk-container-id-1 {color: black;background-color: white;}#sk-container-id-1 pre{padding: 0;}#sk-container-id-1 div.sk-toggleable {background-color: white;}#sk-container-id-1 label.sk-toggleable__label {cursor: pointer;display: block;width: 100%;margin-bottom: 0;padding: 0.3em;box-sizing: border-box;text-align: center;}#sk-container-id-1 label.sk-toggleable__label-arrow:before {content: \"▸\";float: left;margin-right: 0.25em;color: #696969;}#sk-container-id-1 label.sk-toggleable__label-arrow:hover:before {color: black;}#sk-container-id-1 div.sk-estimator:hover label.sk-toggleable__label-arrow:before {color: black;}#sk-container-id-1 div.sk-toggleable__content {max-height: 0;max-width: 0;overflow: hidden;text-align: left;background-color: #f0f8ff;}#sk-container-id-1 div.sk-toggleable__content pre {margin: 0.2em;color: black;border-radius: 0.25em;background-color: #f0f8ff;}#sk-container-id-1 input.sk-toggleable__control:checked~div.sk-toggleable__content {max-height: 200px;max-width: 100%;overflow: auto;}#sk-container-id-1 input.sk-toggleable__control:checked~label.sk-toggleable__label-arrow:before {content: \"▾\";}#sk-container-id-1 div.sk-estimator input.sk-toggleable__control:checked~label.sk-toggleable__label {background-color: #d4ebff;}#sk-container-id-1 div.sk-label input.sk-toggleable__control:checked~label.sk-toggleable__label {background-color: #d4ebff;}#sk-container-id-1 input.sk-hidden--visually {border: 0;clip: rect(1px 1px 1px 1px);clip: rect(1px, 1px, 1px, 1px);height: 1px;margin: -1px;overflow: hidden;padding: 0;position: absolute;width: 1px;}#sk-container-id-1 div.sk-estimator {font-family: monospace;background-color: #f0f8ff;border: 1px dotted black;border-radius: 0.25em;box-sizing: border-box;margin-bottom: 0.5em;}#sk-container-id-1 div.sk-estimator:hover {background-color: #d4ebff;}#sk-container-id-1 div.sk-parallel-item::after {content: \"\";width: 100%;border-bottom: 1px solid gray;flex-grow: 1;}#sk-container-id-1 div.sk-label:hover label.sk-toggleable__label {background-color: #d4ebff;}#sk-container-id-1 div.sk-serial::before {content: \"\";position: absolute;border-left: 1px solid gray;box-sizing: border-box;top: 0;bottom: 0;left: 50%;z-index: 0;}#sk-container-id-1 div.sk-serial {display: flex;flex-direction: column;align-items: center;background-color: white;padding-right: 0.2em;padding-left: 0.2em;position: relative;}#sk-container-id-1 div.sk-item {position: relative;z-index: 1;}#sk-container-id-1 div.sk-parallel {display: flex;align-items: stretch;justify-content: center;background-color: white;position: relative;}#sk-container-id-1 div.sk-item::before, #sk-container-id-1 div.sk-parallel-item::before {content: \"\";position: absolute;border-left: 1px solid gray;box-sizing: border-box;top: 0;bottom: 0;left: 50%;z-index: -1;}#sk-container-id-1 div.sk-parallel-item {display: flex;flex-direction: column;z-index: 1;position: relative;background-color: white;}#sk-container-id-1 div.sk-parallel-item:first-child::after {align-self: flex-end;width: 50%;}#sk-container-id-1 div.sk-parallel-item:last-child::after {align-self: flex-start;width: 50%;}#sk-container-id-1 div.sk-parallel-item:only-child::after {width: 0;}#sk-container-id-1 div.sk-dashed-wrapped {border: 1px dashed gray;margin: 0 0.4em 0.5em 0.4em;box-sizing: border-box;padding-bottom: 0.4em;background-color: white;}#sk-container-id-1 div.sk-label label {font-family: monospace;font-weight: bold;display: inline-block;line-height: 1.2em;}#sk-container-id-1 div.sk-label-container {text-align: center;}#sk-container-id-1 div.sk-container {/* jupyter's `normalize.less` sets `[hidden] { display: none; }` but bootstrap.min.css set `[hidden] { display: none !important; }` so we also need the `!important` here to be able to override the default hidden behavior on the sphinx rendered scikit-learn.org. See: https://github.com/scikit-learn/scikit-learn/issues/21755 */display: inline-block !important;position: relative;}#sk-container-id-1 div.sk-text-repr-fallback {display: none;}</style><div id=\"sk-container-id-1\" class=\"sk-top-container\"><div class=\"sk-text-repr-fallback\"><pre>LogisticRegression()</pre><b>In a Jupyter environment, please rerun this cell to show the HTML representation or trust the notebook. <br />On GitHub, the HTML representation is unable to render, please try loading this page with nbviewer.org.</b></div><div class=\"sk-container\" hidden><div class=\"sk-item\"><div class=\"sk-estimator sk-toggleable\"><input class=\"sk-toggleable__control sk-hidden--visually\" id=\"sk-estimator-id-1\" type=\"checkbox\" checked><label for=\"sk-estimator-id-1\" class=\"sk-toggleable__label sk-toggleable__label-arrow\">LogisticRegression</label><div class=\"sk-toggleable__content\"><pre>LogisticRegression()</pre></div></div></div></div></div>"
      ],
      "text/plain": [
       "LogisticRegression()"
      ]
     },
     "execution_count": 84,
     "metadata": {},
     "output_type": "execute_result"
    }
   ],
   "source": [
    "# to fit the logistic regression into the training data\n",
    "log_model.fit(X_train_res, y_train_res)"
   ]
  },
  {
   "cell_type": "code",
   "execution_count": 85,
   "id": "c60a3c8f",
   "metadata": {},
   "outputs": [],
   "source": [
    "# to do logistic regression on the X test data\n",
    "log_pred = log_model.predict(scaled_X_test)"
   ]
  },
  {
   "cell_type": "code",
   "execution_count": 86,
   "id": "7e42042b",
   "metadata": {},
   "outputs": [],
   "source": [
    "from sklearn.metrics import confusion_matrix, classification_report, ConfusionMatrixDisplay"
   ]
  },
  {
   "cell_type": "code",
   "execution_count": 87,
   "id": "747c0bd9",
   "metadata": {},
   "outputs": [
    {
     "name": "stdout",
     "output_type": "stream",
     "text": [
      "[[115908  12616]\n",
      " [   657   8153]]\n",
      "\n",
      "\n",
      "              precision    recall  f1-score   support\n",
      "\n",
      "          No       0.99      0.90      0.95    128524\n",
      "         Yes       0.39      0.93      0.55      8810\n",
      "\n",
      "    accuracy                           0.90    137334\n",
      "   macro avg       0.69      0.91      0.75    137334\n",
      "weighted avg       0.96      0.90      0.92    137334\n",
      "\n"
     ]
    }
   ],
   "source": [
    "print(confusion_matrix(y_test,log_pred))\n",
    "print('\\n')\n",
    "# Logistic regression model has achieved 90% accuracy\n",
    "print(classification_report(y_test,log_pred)) "
   ]
  },
  {
   "cell_type": "code",
   "execution_count": 88,
   "id": "69319b3f",
   "metadata": {},
   "outputs": [
    {
     "data": {
      "text/plain": [
       "<sklearn.metrics._plot.confusion_matrix.ConfusionMatrixDisplay at 0x29db60a5750>"
      ]
     },
     "execution_count": 88,
     "metadata": {},
     "output_type": "execute_result"
    },
    {
     "data": {
      "image/png": "[encoded data removed]",
      "text/plain": [
       "<Figure size 640x480 with 2 Axes>"
      ]
     },
     "metadata": {},
     "output_type": "display_data"
    }
   ],
   "source": [
    "ConfusionMatrixDisplay.from_predictions(y_test,log_pred)"
   ]
  },
  {
   "cell_type": "code",
   "execution_count": 89,
   "id": "3829a8a2",
   "metadata": {},
   "outputs": [],
   "source": [
    "# to import decision tree classifier\n",
    "from sklearn.tree import DecisionTreeClassifier"
   ]
  },
  {
   "cell_type": "code",
   "execution_count": 90,
   "id": "c0921842",
   "metadata": {},
   "outputs": [],
   "source": [
    "dt = DecisionTreeClassifier()"
   ]
  },
  {
   "cell_type": "code",
   "execution_count": 91,
   "id": "fd76f7ab",
   "metadata": {},
   "outputs": [
    {
     "data": {
      "text/html": [
       "<style>#sk-container-id-2 {color: black;background-color: white;}#sk-container-id-2 pre{padding: 0;}#sk-container-id-2 div.sk-toggleable {background-color: white;}#sk-container-id-2 label.sk-toggleable__label {cursor: pointer;display: block;width: 100%;margin-bottom: 0;padding: 0.3em;box-sizing: border-box;text-align: center;}#sk-container-id-2 label.sk-toggleable__label-arrow:before {content: \"▸\";float: left;margin-right: 0.25em;color: #696969;}#sk-container-id-2 label.sk-toggleable__label-arrow:hover:before {color: black;}#sk-container-id-2 div.sk-estimator:hover label.sk-toggleable__label-arrow:before {color: black;}#sk-container-id-2 div.sk-toggleable__content {max-height: 0;max-width: 0;overflow: hidden;text-align: left;background-color: #f0f8ff;}#sk-container-id-2 div.sk-toggleable__content pre {margin: 0.2em;color: black;border-radius: 0.25em;background-color: #f0f8ff;}#sk-container-id-2 input.sk-toggleable__control:checked~div.sk-toggleable__content {max-height: 200px;max-width: 100%;overflow: auto;}#sk-container-id-2 input.sk-toggleable__control:checked~label.sk-toggleable__label-arrow:before {content: \"▾\";}#sk-container-id-2 div.sk-estimator input.sk-toggleable__control:checked~label.sk-toggleable__label {background-color: #d4ebff;}#sk-container-id-2 div.sk-label input.sk-toggleable__control:checked~label.sk-toggleable__label {background-color: #d4ebff;}#sk-container-id-2 input.sk-hidden--visually {border: 0;clip: rect(1px 1px 1px 1px);clip: rect(1px, 1px, 1px, 1px);height: 1px;margin: -1px;overflow: hidden;padding: 0;position: absolute;width: 1px;}#sk-container-id-2 div.sk-estimator {font-family: monospace;background-color: #f0f8ff;border: 1px dotted black;border-radius: 0.25em;box-sizing: border-box;margin-bottom: 0.5em;}#sk-container-id-2 div.sk-estimator:hover {background-color: #d4ebff;}#sk-container-id-2 div.sk-parallel-item::after {content: \"\";width: 100%;border-bottom: 1px solid gray;flex-grow: 1;}#sk-container-id-2 div.sk-label:hover label.sk-toggleable__label {background-color: #d4ebff;}#sk-container-id-2 div.sk-serial::before {content: \"\";position: absolute;border-left: 1px solid gray;box-sizing: border-box;top: 0;bottom: 0;left: 50%;z-index: 0;}#sk-container-id-2 div.sk-serial {display: flex;flex-direction: column;align-items: center;background-color: white;padding-right: 0.2em;padding-left: 0.2em;position: relative;}#sk-container-id-2 div.sk-item {position: relative;z-index: 1;}#sk-container-id-2 div.sk-parallel {display: flex;align-items: stretch;justify-content: center;background-color: white;position: relative;}#sk-container-id-2 div.sk-item::before, #sk-container-id-2 div.sk-parallel-item::before {content: \"\";position: absolute;border-left: 1px solid gray;box-sizing: border-box;top: 0;bottom: 0;left: 50%;z-index: -1;}#sk-container-id-2 div.sk-parallel-item {display: flex;flex-direction: column;z-index: 1;position: relative;background-color: white;}#sk-container-id-2 div.sk-parallel-item:first-child::after {align-self: flex-end;width: 50%;}#sk-container-id-2 div.sk-parallel-item:last-child::after {align-self: flex-start;width: 50%;}#sk-container-id-2 div.sk-parallel-item:only-child::after {width: 0;}#sk-container-id-2 div.sk-dashed-wrapped {border: 1px dashed gray;margin: 0 0.4em 0.5em 0.4em;box-sizing: border-box;padding-bottom: 0.4em;background-color: white;}#sk-container-id-2 div.sk-label label {font-family: monospace;font-weight: bold;display: inline-block;line-height: 1.2em;}#sk-container-id-2 div.sk-label-container {text-align: center;}#sk-container-id-2 div.sk-container {/* jupyter's `normalize.less` sets `[hidden] { display: none; }` but bootstrap.min.css set `[hidden] { display: none !important; }` so we also need the `!important` here to be able to override the default hidden behavior on the sphinx rendered scikit-learn.org. See: https://github.com/scikit-learn/scikit-learn/issues/21755 */display: inline-block !important;position: relative;}#sk-container-id-2 div.sk-text-repr-fallback {display: none;}</style><div id=\"sk-container-id-2\" class=\"sk-top-container\"><div class=\"sk-text-repr-fallback\"><pre>DecisionTreeClassifier()</pre><b>In a Jupyter environment, please rerun this cell to show the HTML representation or trust the notebook. <br />On GitHub, the HTML representation is unable to render, please try loading this page with nbviewer.org.</b></div><div class=\"sk-container\" hidden><div class=\"sk-item\"><div class=\"sk-estimator sk-toggleable\"><input class=\"sk-toggleable__control sk-hidden--visually\" id=\"sk-estimator-id-2\" type=\"checkbox\" checked><label for=\"sk-estimator-id-2\" class=\"sk-toggleable__label sk-toggleable__label-arrow\">DecisionTreeClassifier</label><div class=\"sk-toggleable__content\"><pre>DecisionTreeClassifier()</pre></div></div></div></div></div>"
      ],
      "text/plain": [
       "DecisionTreeClassifier()"
      ]
     },
     "execution_count": 91,
     "metadata": {},
     "output_type": "execute_result"
    }
   ],
   "source": [
    "# to fit the decision tree model to training data\n",
    "dt.fit(X_train_res, y_train_res)"
   ]
  },
  {
   "cell_type": "code",
   "execution_count": 92,
   "id": "1ee583a7",
   "metadata": {},
   "outputs": [],
   "source": [
    "# decision tree prediction\n",
    "dt_pred = dt.predict(scaled_X_test)"
   ]
  },
  {
   "cell_type": "code",
   "execution_count": 93,
   "id": "178d21e2",
   "metadata": {},
   "outputs": [
    {
     "name": "stdout",
     "output_type": "stream",
     "text": [
      "[[116681  11843]\n",
      " [   855   7955]]\n",
      "\n",
      "\n",
      "              precision    recall  f1-score   support\n",
      "\n",
      "          No       0.99      0.91      0.95    128524\n",
      "         Yes       0.40      0.90      0.56      8810\n",
      "\n",
      "    accuracy                           0.91    137334\n",
      "   macro avg       0.70      0.91      0.75    137334\n",
      "weighted avg       0.95      0.91      0.92    137334\n",
      "\n"
     ]
    }
   ],
   "source": [
    "# Decision tree prediction model has achieved 91% accuracy\n",
    "print(confusion_matrix(y_test,dt_pred))\n",
    "print('\\n')\n",
    "print(classification_report(y_test, dt_pred))"
   ]
  },
  {
   "cell_type": "code",
   "execution_count": 94,
   "id": "7dc650f5",
   "metadata": {},
   "outputs": [
    {
     "data": {
      "text/plain": [
       "<sklearn.metrics._plot.confusion_matrix.ConfusionMatrixDisplay at 0x29dbc1fea90>"
      ]
     },
     "execution_count": 94,
     "metadata": {},
     "output_type": "execute_result"
    },
    {
     "data": {
      "image/png": "[encoded data removed]",
      "text/plain": [
       "<Figure size 640x480 with 2 Axes>"
      ]
     },
     "metadata": {},
     "output_type": "display_data"
    }
   ],
   "source": [
    "ConfusionMatrixDisplay.from_predictions(y_test,dt_pred)"
   ]
  },
  {
   "cell_type": "code",
   "execution_count": 95,
   "id": "d7e0b58f",
   "metadata": {},
   "outputs": [],
   "source": [
    "# to import random forest classifier\n",
    "from sklearn.ensemble import RandomForestClassifier"
   ]
  },
  {
   "cell_type": "code",
   "execution_count": 96,
   "id": "9d1eb9d3",
   "metadata": {},
   "outputs": [],
   "source": [
    "rfc = RandomForestClassifier()"
   ]
  },
  {
   "cell_type": "code",
   "execution_count": 97,
   "id": "820f6f92",
   "metadata": {},
   "outputs": [
    {
     "data": {
      "text/html": [
       "<style>#sk-container-id-3 {color: black;background-color: white;}#sk-container-id-3 pre{padding: 0;}#sk-container-id-3 div.sk-toggleable {background-color: white;}#sk-container-id-3 label.sk-toggleable__label {cursor: pointer;display: block;width: 100%;margin-bottom: 0;padding: 0.3em;box-sizing: border-box;text-align: center;}#sk-container-id-3 label.sk-toggleable__label-arrow:before {content: \"▸\";float: left;margin-right: 0.25em;color: #696969;}#sk-container-id-3 label.sk-toggleable__label-arrow:hover:before {color: black;}#sk-container-id-3 div.sk-estimator:hover label.sk-toggleable__label-arrow:before {color: black;}#sk-container-id-3 div.sk-toggleable__content {max-height: 0;max-width: 0;overflow: hidden;text-align: left;background-color: #f0f8ff;}#sk-container-id-3 div.sk-toggleable__content pre {margin: 0.2em;color: black;border-radius: 0.25em;background-color: #f0f8ff;}#sk-container-id-3 input.sk-toggleable__control:checked~div.sk-toggleable__content {max-height: 200px;max-width: 100%;overflow: auto;}#sk-container-id-3 input.sk-toggleable__control:checked~label.sk-toggleable__label-arrow:before {content: \"▾\";}#sk-container-id-3 div.sk-estimator input.sk-toggleable__control:checked~label.sk-toggleable__label {background-color: #d4ebff;}#sk-container-id-3 div.sk-label input.sk-toggleable__control:checked~label.sk-toggleable__label {background-color: #d4ebff;}#sk-container-id-3 input.sk-hidden--visually {border: 0;clip: rect(1px 1px 1px 1px);clip: rect(1px, 1px, 1px, 1px);height: 1px;margin: -1px;overflow: hidden;padding: 0;position: absolute;width: 1px;}#sk-container-id-3 div.sk-estimator {font-family: monospace;background-color: #f0f8ff;border: 1px dotted black;border-radius: 0.25em;box-sizing: border-box;margin-bottom: 0.5em;}#sk-container-id-3 div.sk-estimator:hover {background-color: #d4ebff;}#sk-container-id-3 div.sk-parallel-item::after {content: \"\";width: 100%;border-bottom: 1px solid gray;flex-grow: 1;}#sk-container-id-3 div.sk-label:hover label.sk-toggleable__label {background-color: #d4ebff;}#sk-container-id-3 div.sk-serial::before {content: \"\";position: absolute;border-left: 1px solid gray;box-sizing: border-box;top: 0;bottom: 0;left: 50%;z-index: 0;}#sk-container-id-3 div.sk-serial {display: flex;flex-direction: column;align-items: center;background-color: white;padding-right: 0.2em;padding-left: 0.2em;position: relative;}#sk-container-id-3 div.sk-item {position: relative;z-index: 1;}#sk-container-id-3 div.sk-parallel {display: flex;align-items: stretch;justify-content: center;background-color: white;position: relative;}#sk-container-id-3 div.sk-item::before, #sk-container-id-3 div.sk-parallel-item::before {content: \"\";position: absolute;border-left: 1px solid gray;box-sizing: border-box;top: 0;bottom: 0;left: 50%;z-index: -1;}#sk-container-id-3 div.sk-parallel-item {display: flex;flex-direction: column;z-index: 1;position: relative;background-color: white;}#sk-container-id-3 div.sk-parallel-item:first-child::after {align-self: flex-end;width: 50%;}#sk-container-id-3 div.sk-parallel-item:last-child::after {align-self: flex-start;width: 50%;}#sk-container-id-3 div.sk-parallel-item:only-child::after {width: 0;}#sk-container-id-3 div.sk-dashed-wrapped {border: 1px dashed gray;margin: 0 0.4em 0.5em 0.4em;box-sizing: border-box;padding-bottom: 0.4em;background-color: white;}#sk-container-id-3 div.sk-label label {font-family: monospace;font-weight: bold;display: inline-block;line-height: 1.2em;}#sk-container-id-3 div.sk-label-container {text-align: center;}#sk-container-id-3 div.sk-container {/* jupyter's `normalize.less` sets `[hidden] { display: none; }` but bootstrap.min.css set `[hidden] { display: none !important; }` so we also need the `!important` here to be able to override the default hidden behavior on the sphinx rendered scikit-learn.org. See: https://github.com/scikit-learn/scikit-learn/issues/21755 */display: inline-block !important;position: relative;}#sk-container-id-3 div.sk-text-repr-fallback {display: none;}</style><div id=\"sk-container-id-3\" class=\"sk-top-container\"><div class=\"sk-text-repr-fallback\"><pre>RandomForestClassifier()</pre><b>In a Jupyter environment, please rerun this cell to show the HTML representation or trust the notebook. <br />On GitHub, the HTML representation is unable to render, please try loading this page with nbviewer.org.</b></div><div class=\"sk-container\" hidden><div class=\"sk-item\"><div class=\"sk-estimator sk-toggleable\"><input class=\"sk-toggleable__control sk-hidden--visually\" id=\"sk-estimator-id-3\" type=\"checkbox\" checked><label for=\"sk-estimator-id-3\" class=\"sk-toggleable__label sk-toggleable__label-arrow\">RandomForestClassifier</label><div class=\"sk-toggleable__content\"><pre>RandomForestClassifier()</pre></div></div></div></div></div>"
      ],
      "text/plain": [
       "RandomForestClassifier()"
      ]
     },
     "execution_count": 97,
     "metadata": {},
     "output_type": "execute_result"
    }
   ],
   "source": [
    "rfc.fit(X_train_res, y_train_res)"
   ]
  },
  {
   "cell_type": "code",
   "execution_count": 98,
   "id": "ad58a9f9",
   "metadata": {},
   "outputs": [],
   "source": [
    "# to train random forest prediction model from training data\n",
    "rfc_pred = rfc.predict(scaled_X_test)"
   ]
  },
  {
   "cell_type": "code",
   "execution_count": 99,
   "id": "a854b1c1",
   "metadata": {},
   "outputs": [
    {
     "data": {
      "text/plain": [
       "array(['No', 'No', 'Yes', ..., 'No', 'No', 'Yes'], dtype=object)"
      ]
     },
     "execution_count": 99,
     "metadata": {},
     "output_type": "execute_result"
    }
   ],
   "source": [
    "rfc_pred"
   ]
  },
  {
   "cell_type": "code",
   "execution_count": 100,
   "id": "82d86f7e",
   "metadata": {},
   "outputs": [
    {
     "name": "stdout",
     "output_type": "stream",
     "text": [
      "[[116642  11882]\n",
      " [   826   7984]]\n",
      "\n",
      "\n",
      "              precision    recall  f1-score   support\n",
      "\n",
      "          No       0.99      0.91      0.95    128524\n",
      "         Yes       0.40      0.91      0.56      8810\n",
      "\n",
      "    accuracy                           0.91    137334\n",
      "   macro avg       0.70      0.91      0.75    137334\n",
      "weighted avg       0.96      0.91      0.92    137334\n",
      "\n"
     ]
    }
   ],
   "source": [
    "print(confusion_matrix(y_test,rfc_pred))\n",
    "print('\\n')\n",
    "print(classification_report(y_test,rfc_pred)) # Random Forest prediction model has achieved 91% accuracy"
   ]
  },
  {
   "cell_type": "code",
   "execution_count": 101,
   "id": "0274cb3b",
   "metadata": {},
   "outputs": [
    {
     "data": {
      "text/plain": [
       "<sklearn.metrics._plot.confusion_matrix.ConfusionMatrixDisplay at 0x29e268cfc10>"
      ]
     },
     "execution_count": 101,
     "metadata": {},
     "output_type": "execute_result"
    },
    {
     "data": {
      "image/png": "[encoded data removed]",
      "text/plain": [
       "<Figure size 640x480 with 2 Axes>"
      ]
     },
     "metadata": {},
     "output_type": "display_data"
    }
   ],
   "source": [
    "ConfusionMatrixDisplay.from_predictions(y_test,rfc_pred)"
   ]
  },
  {
   "cell_type": "code",
   "execution_count": 102,
   "id": "6c6dc87e",
   "metadata": {},
   "outputs": [
    {
     "data": {
      "text/plain": [
       "array([0.00000000e+00, 4.03503891e-03, 1.10624418e-02, 8.05948802e-06,\n",
       "       1.25878021e-02, 3.13932127e-02, 2.53119852e-02, 1.52984198e-02,\n",
       "       9.48310582e-03, 1.27347582e-02, 3.50539372e-02, 1.30064107e-01,\n",
       "       1.53629200e-03, 2.81033538e-03, 4.09734206e-03, 1.81333150e-03,\n",
       "       8.75896147e-04, 7.50517195e-03, 3.61613373e-01, 1.58631069e-01,\n",
       "       1.00652539e-01, 5.36648554e-03, 6.93378979e-05, 1.16200092e-05,\n",
       "       5.93336266e-03, 1.54452519e-02, 5.99598359e-03, 6.86353171e-03,\n",
       "       1.49217583e-02, 1.19892584e-02, 6.83519146e-03])"
      ]
     },
     "execution_count": 102,
     "metadata": {},
     "output_type": "execute_result"
    }
   ],
   "source": [
    "# to print the feature importance from the Random forest model\n",
    "rfc.feature_importances_"
   ]
  },
  {
   "cell_type": "code",
   "execution_count": 103,
   "id": "361315a9",
   "metadata": {},
   "outputs": [
    {
     "data": {
      "text/html": [
       "<div>\n",
       "<style scoped>\n",
       "    .dataframe tbody tr th:only-of-type {\n",
       "        vertical-align: middle;\n",
       "    }\n",
       "\n",
       "    .dataframe tbody tr th {\n",
       "        vertical-align: top;\n",
       "    }\n",
       "\n",
       "    .dataframe thead th {\n",
       "        text-align: right;\n",
       "    }\n",
       "</style>\n",
       "<table border=\"1\" class=\"dataframe\">\n",
       "  <thead>\n",
       "    <tr style=\"text-align: right;\">\n",
       "      <th></th>\n",
       "      <th>Feature Importance</th>\n",
       "    </tr>\n",
       "  </thead>\n",
       "  <tbody>\n",
       "    <tr>\n",
       "      <th>Year</th>\n",
       "      <td>0.000000</td>\n",
       "    </tr>\n",
       "    <tr>\n",
       "      <th>sex_Other</th>\n",
       "      <td>0.000008</td>\n",
       "    </tr>\n",
       "    <tr>\n",
       "      <th>Month_January</th>\n",
       "      <td>0.000012</td>\n",
       "    </tr>\n",
       "    <tr>\n",
       "      <th>Month_February</th>\n",
       "      <td>0.000069</td>\n",
       "    </tr>\n",
       "    <tr>\n",
       "      <th>Race and ethnicity (combined)_Native Hawaiian/Other Pacific Islander, Non-Hispanic</th>\n",
       "      <td>0.000876</td>\n",
       "    </tr>\n",
       "    <tr>\n",
       "      <th>Race and ethnicity (combined)_Asian, Non-Hispanic</th>\n",
       "      <td>0.001536</td>\n",
       "    </tr>\n",
       "    <tr>\n",
       "      <th>Race and ethnicity (combined)_Multiple/Other, Non-Hispanic</th>\n",
       "      <td>0.001813</td>\n",
       "    </tr>\n",
       "    <tr>\n",
       "      <th>Race and ethnicity (combined)_Black, Non-Hispanic</th>\n",
       "      <td>0.002810</td>\n",
       "    </tr>\n",
       "    <tr>\n",
       "      <th>current_status_Probable Case</th>\n",
       "      <td>0.004035</td>\n",
       "    </tr>\n",
       "    <tr>\n",
       "      <th>Race and ethnicity (combined)_Hispanic/Latino</th>\n",
       "      <td>0.004097</td>\n",
       "    </tr>\n",
       "    <tr>\n",
       "      <th>Month_August</th>\n",
       "      <td>0.005366</td>\n",
       "    </tr>\n",
       "    <tr>\n",
       "      <th>Month_July</th>\n",
       "      <td>0.005933</td>\n",
       "    </tr>\n",
       "    <tr>\n",
       "      <th>Month_March</th>\n",
       "      <td>0.005996</td>\n",
       "    </tr>\n",
       "    <tr>\n",
       "      <th>Month_September</th>\n",
       "      <td>0.006835</td>\n",
       "    </tr>\n",
       "    <tr>\n",
       "      <th>Month_May</th>\n",
       "      <td>0.006864</td>\n",
       "    </tr>\n",
       "    <tr>\n",
       "      <th>Race and ethnicity (combined)_White, Non-Hispanic</th>\n",
       "      <td>0.007505</td>\n",
       "    </tr>\n",
       "    <tr>\n",
       "      <th>age_group_50 - 59 Years</th>\n",
       "      <td>0.009483</td>\n",
       "    </tr>\n",
       "    <tr>\n",
       "      <th>sex_Male</th>\n",
       "      <td>0.011062</td>\n",
       "    </tr>\n",
       "    <tr>\n",
       "      <th>Month_October</th>\n",
       "      <td>0.011989</td>\n",
       "    </tr>\n",
       "    <tr>\n",
       "      <th>age_group_10 - 19 Years</th>\n",
       "      <td>0.012588</td>\n",
       "    </tr>\n",
       "    <tr>\n",
       "      <th>age_group_60 - 69 Years</th>\n",
       "      <td>0.012735</td>\n",
       "    </tr>\n",
       "    <tr>\n",
       "      <th>Month_November</th>\n",
       "      <td>0.014922</td>\n",
       "    </tr>\n",
       "    <tr>\n",
       "      <th>age_group_40 - 49 Years</th>\n",
       "      <td>0.015298</td>\n",
       "    </tr>\n",
       "    <tr>\n",
       "      <th>Month_June</th>\n",
       "      <td>0.015445</td>\n",
       "    </tr>\n",
       "    <tr>\n",
       "      <th>age_group_30 - 39 Years</th>\n",
       "      <td>0.025312</td>\n",
       "    </tr>\n",
       "    <tr>\n",
       "      <th>age_group_20 - 29 Years</th>\n",
       "      <td>0.031393</td>\n",
       "    </tr>\n",
       "    <tr>\n",
       "      <th>age_group_70 - 79 Years</th>\n",
       "      <td>0.035054</td>\n",
       "    </tr>\n",
       "    <tr>\n",
       "      <th>medcond_yn_Yes</th>\n",
       "      <td>0.100653</td>\n",
       "    </tr>\n",
       "    <tr>\n",
       "      <th>age_group_80+ Years</th>\n",
       "      <td>0.130064</td>\n",
       "    </tr>\n",
       "    <tr>\n",
       "      <th>icu_yn_Yes</th>\n",
       "      <td>0.158631</td>\n",
       "    </tr>\n",
       "    <tr>\n",
       "      <th>hosp_yn_Yes</th>\n",
       "      <td>0.361613</td>\n",
       "    </tr>\n",
       "  </tbody>\n",
       "</table>\n",
       "</div>"
      ],
      "text/plain": [
       "                                                    Feature Importance\n",
       "Year                                                          0.000000\n",
       "sex_Other                                                     0.000008\n",
       "Month_January                                                 0.000012\n",
       "Month_February                                                0.000069\n",
       "Race and ethnicity (combined)_Native Hawaiian/O...            0.000876\n",
       "Race and ethnicity (combined)_Asian, Non-Hispanic             0.001536\n",
       "Race and ethnicity (combined)_Multiple/Other, N...            0.001813\n",
       "Race and ethnicity (combined)_Black, Non-Hispanic             0.002810\n",
       "current_status_Probable Case                                  0.004035\n",
       "Race and ethnicity (combined)_Hispanic/Latino                 0.004097\n",
       "Month_August                                                  0.005366\n",
       "Month_July                                                    0.005933\n",
       "Month_March                                                   0.005996\n",
       "Month_September                                               0.006835\n",
       "Month_May                                                     0.006864\n",
       "Race and ethnicity (combined)_White, Non-Hispanic             0.007505\n",
       "age_group_50 - 59 Years                                       0.009483\n",
       "sex_Male                                                      0.011062\n",
       "Month_October                                                 0.011989\n",
       "age_group_10 - 19 Years                                       0.012588\n",
       "age_group_60 - 69 Years                                       0.012735\n",
       "Month_November                                                0.014922\n",
       "age_group_40 - 49 Years                                       0.015298\n",
       "Month_June                                                    0.015445\n",
       "age_group_30 - 39 Years                                       0.025312\n",
       "age_group_20 - 29 Years                                       0.031393\n",
       "age_group_70 - 79 Years                                       0.035054\n",
       "medcond_yn_Yes                                                0.100653\n",
       "age_group_80+ Years                                           0.130064\n",
       "icu_yn_Yes                                                    0.158631\n",
       "hosp_yn_Yes                                                   0.361613"
      ]
     },
     "execution_count": 103,
     "metadata": {},
     "output_type": "execute_result"
    }
   ],
   "source": [
    "pd.DataFrame(index= X.columns, data=rfc.feature_importances_, columns=['Feature Importance']).sort_values('Feature Importance')"
   ]
  },
  {
   "cell_type": "code",
   "execution_count": 104,
   "id": "c481d1cd",
   "metadata": {},
   "outputs": [],
   "source": [
    "# to read into a new dataframe\n",
    "rf_feat =pd.DataFrame(index= X.columns, data=rfc.feature_importances_, columns=['Feature Importance']).sort_values('Feature Importance')"
   ]
  },
  {
   "cell_type": "code",
   "execution_count": 105,
   "id": "bf750f15",
   "metadata": {},
   "outputs": [],
   "source": [
    "# to remove variables who features are less than 0.005\n",
    "rf_feat = rf_feat[rf_feat['Feature Importance'] > 0.005]"
   ]
  },
  {
   "cell_type": "code",
   "execution_count": 106,
   "id": "05f4358c",
   "metadata": {},
   "outputs": [
    {
     "data": {
      "text/html": [
       "<div>\n",
       "<style scoped>\n",
       "    .dataframe tbody tr th:only-of-type {\n",
       "        vertical-align: middle;\n",
       "    }\n",
       "\n",
       "    .dataframe tbody tr th {\n",
       "        vertical-align: top;\n",
       "    }\n",
       "\n",
       "    .dataframe thead th {\n",
       "        text-align: right;\n",
       "    }\n",
       "</style>\n",
       "<table border=\"1\" class=\"dataframe\">\n",
       "  <thead>\n",
       "    <tr style=\"text-align: right;\">\n",
       "      <th></th>\n",
       "      <th>Feature Importance</th>\n",
       "    </tr>\n",
       "  </thead>\n",
       "  <tbody>\n",
       "    <tr>\n",
       "      <th>Month_August</th>\n",
       "      <td>0.005366</td>\n",
       "    </tr>\n",
       "    <tr>\n",
       "      <th>Month_July</th>\n",
       "      <td>0.005933</td>\n",
       "    </tr>\n",
       "    <tr>\n",
       "      <th>Month_March</th>\n",
       "      <td>0.005996</td>\n",
       "    </tr>\n",
       "    <tr>\n",
       "      <th>Month_September</th>\n",
       "      <td>0.006835</td>\n",
       "    </tr>\n",
       "    <tr>\n",
       "      <th>Month_May</th>\n",
       "      <td>0.006864</td>\n",
       "    </tr>\n",
       "    <tr>\n",
       "      <th>Race and ethnicity (combined)_White, Non-Hispanic</th>\n",
       "      <td>0.007505</td>\n",
       "    </tr>\n",
       "    <tr>\n",
       "      <th>age_group_50 - 59 Years</th>\n",
       "      <td>0.009483</td>\n",
       "    </tr>\n",
       "    <tr>\n",
       "      <th>sex_Male</th>\n",
       "      <td>0.011062</td>\n",
       "    </tr>\n",
       "    <tr>\n",
       "      <th>Month_October</th>\n",
       "      <td>0.011989</td>\n",
       "    </tr>\n",
       "    <tr>\n",
       "      <th>age_group_10 - 19 Years</th>\n",
       "      <td>0.012588</td>\n",
       "    </tr>\n",
       "    <tr>\n",
       "      <th>age_group_60 - 69 Years</th>\n",
       "      <td>0.012735</td>\n",
       "    </tr>\n",
       "    <tr>\n",
       "      <th>Month_November</th>\n",
       "      <td>0.014922</td>\n",
       "    </tr>\n",
       "    <tr>\n",
       "      <th>age_group_40 - 49 Years</th>\n",
       "      <td>0.015298</td>\n",
       "    </tr>\n",
       "    <tr>\n",
       "      <th>Month_June</th>\n",
       "      <td>0.015445</td>\n",
       "    </tr>\n",
       "    <tr>\n",
       "      <th>age_group_30 - 39 Years</th>\n",
       "      <td>0.025312</td>\n",
       "    </tr>\n",
       "    <tr>\n",
       "      <th>age_group_20 - 29 Years</th>\n",
       "      <td>0.031393</td>\n",
       "    </tr>\n",
       "    <tr>\n",
       "      <th>age_group_70 - 79 Years</th>\n",
       "      <td>0.035054</td>\n",
       "    </tr>\n",
       "    <tr>\n",
       "      <th>medcond_yn_Yes</th>\n",
       "      <td>0.100653</td>\n",
       "    </tr>\n",
       "    <tr>\n",
       "      <th>age_group_80+ Years</th>\n",
       "      <td>0.130064</td>\n",
       "    </tr>\n",
       "    <tr>\n",
       "      <th>icu_yn_Yes</th>\n",
       "      <td>0.158631</td>\n",
       "    </tr>\n",
       "    <tr>\n",
       "      <th>hosp_yn_Yes</th>\n",
       "      <td>0.361613</td>\n",
       "    </tr>\n",
       "  </tbody>\n",
       "</table>\n",
       "</div>"
      ],
      "text/plain": [
       "                                                   Feature Importance\n",
       "Month_August                                                 0.005366\n",
       "Month_July                                                   0.005933\n",
       "Month_March                                                  0.005996\n",
       "Month_September                                              0.006835\n",
       "Month_May                                                    0.006864\n",
       "Race and ethnicity (combined)_White, Non-Hispanic            0.007505\n",
       "age_group_50 - 59 Years                                      0.009483\n",
       "sex_Male                                                     0.011062\n",
       "Month_October                                                0.011989\n",
       "age_group_10 - 19 Years                                      0.012588\n",
       "age_group_60 - 69 Years                                      0.012735\n",
       "Month_November                                               0.014922\n",
       "age_group_40 - 49 Years                                      0.015298\n",
       "Month_June                                                   0.015445\n",
       "age_group_30 - 39 Years                                      0.025312\n",
       "age_group_20 - 29 Years                                      0.031393\n",
       "age_group_70 - 79 Years                                      0.035054\n",
       "medcond_yn_Yes                                               0.100653\n",
       "age_group_80+ Years                                          0.130064\n",
       "icu_yn_Yes                                                   0.158631\n",
       "hosp_yn_Yes                                                  0.361613"
      ]
     },
     "execution_count": 106,
     "metadata": {},
     "output_type": "execute_result"
    }
   ],
   "source": [
    "rf_feat"
   ]
  },
  {
   "cell_type": "code",
   "execution_count": 108,
   "id": "ac144f55",
   "metadata": {},
   "outputs": [
    {
     "data": {
      "image/png": "[encoded data removed]",
      "text/plain": [
       "<Figure size 2400x1600 with 1 Axes>"
      ]
     },
     "metadata": {},
     "output_type": "display_data"
    }
   ],
   "source": [
    "# to visualise Random Forest variable important by barplot, Highest Accuracy 91%\n",
    "# Random Forest predictors: icu_yn_Yes, Hosp_yn_Yes,age_80 years, medcond_yes, age_70-79\n",
    "plt.figure(figsize=(12,8), dpi=200)\n",
    "sns.barplot(data=rf_feat, y=rf_feat.index, x='Feature Importance')\n",
    "plt.title('Random Forest, Feature Importance', fontsize=16);"
   ]
  },
  {
   "cell_type": "code",
   "execution_count": 109,
   "id": "490e752f",
   "metadata": {},
   "outputs": [],
   "source": [
    "# to import boosting algorithms\n",
    "from sklearn.ensemble import GradientBoostingClassifier"
   ]
  },
  {
   "cell_type": "code",
   "execution_count": 111,
   "id": "a6edf3f2",
   "metadata": {},
   "outputs": [],
   "source": [
    "# to build the Gradient Boosting classifier model\n",
    "gb_model = GradientBoostingClassifier()"
   ]
  },
  {
   "cell_type": "code",
   "execution_count": 112,
   "id": "802714b9",
   "metadata": {},
   "outputs": [
    {
     "data": {
      "text/html": [
       "<style>#sk-container-id-4 {color: black;background-color: white;}#sk-container-id-4 pre{padding: 0;}#sk-container-id-4 div.sk-toggleable {background-color: white;}#sk-container-id-4 label.sk-toggleable__label {cursor: pointer;display: block;width: 100%;margin-bottom: 0;padding: 0.3em;box-sizing: border-box;text-align: center;}#sk-container-id-4 label.sk-toggleable__label-arrow:before {content: \"▸\";float: left;margin-right: 0.25em;color: #696969;}#sk-container-id-4 label.sk-toggleable__label-arrow:hover:before {color: black;}#sk-container-id-4 div.sk-estimator:hover label.sk-toggleable__label-arrow:before {color: black;}#sk-container-id-4 div.sk-toggleable__content {max-height: 0;max-width: 0;overflow: hidden;text-align: left;background-color: #f0f8ff;}#sk-container-id-4 div.sk-toggleable__content pre {margin: 0.2em;color: black;border-radius: 0.25em;background-color: #f0f8ff;}#sk-container-id-4 input.sk-toggleable__control:checked~div.sk-toggleable__content {max-height: 200px;max-width: 100%;overflow: auto;}#sk-container-id-4 input.sk-toggleable__control:checked~label.sk-toggleable__label-arrow:before {content: \"▾\";}#sk-container-id-4 div.sk-estimator input.sk-toggleable__control:checked~label.sk-toggleable__label {background-color: #d4ebff;}#sk-container-id-4 div.sk-label input.sk-toggleable__control:checked~label.sk-toggleable__label {background-color: #d4ebff;}#sk-container-id-4 input.sk-hidden--visually {border: 0;clip: rect(1px 1px 1px 1px);clip: rect(1px, 1px, 1px, 1px);height: 1px;margin: -1px;overflow: hidden;padding: 0;position: absolute;width: 1px;}#sk-container-id-4 div.sk-estimator {font-family: monospace;background-color: #f0f8ff;border: 1px dotted black;border-radius: 0.25em;box-sizing: border-box;margin-bottom: 0.5em;}#sk-container-id-4 div.sk-estimator:hover {background-color: #d4ebff;}#sk-container-id-4 div.sk-parallel-item::after {content: \"\";width: 100%;border-bottom: 1px solid gray;flex-grow: 1;}#sk-container-id-4 div.sk-label:hover label.sk-toggleable__label {background-color: #d4ebff;}#sk-container-id-4 div.sk-serial::before {content: \"\";position: absolute;border-left: 1px solid gray;box-sizing: border-box;top: 0;bottom: 0;left: 50%;z-index: 0;}#sk-container-id-4 div.sk-serial {display: flex;flex-direction: column;align-items: center;background-color: white;padding-right: 0.2em;padding-left: 0.2em;position: relative;}#sk-container-id-4 div.sk-item {position: relative;z-index: 1;}#sk-container-id-4 div.sk-parallel {display: flex;align-items: stretch;justify-content: center;background-color: white;position: relative;}#sk-container-id-4 div.sk-item::before, #sk-container-id-4 div.sk-parallel-item::before {content: \"\";position: absolute;border-left: 1px solid gray;box-sizing: border-box;top: 0;bottom: 0;left: 50%;z-index: -1;}#sk-container-id-4 div.sk-parallel-item {display: flex;flex-direction: column;z-index: 1;position: relative;background-color: white;}#sk-container-id-4 div.sk-parallel-item:first-child::after {align-self: flex-end;width: 50%;}#sk-container-id-4 div.sk-parallel-item:last-child::after {align-self: flex-start;width: 50%;}#sk-container-id-4 div.sk-parallel-item:only-child::after {width: 0;}#sk-container-id-4 div.sk-dashed-wrapped {border: 1px dashed gray;margin: 0 0.4em 0.5em 0.4em;box-sizing: border-box;padding-bottom: 0.4em;background-color: white;}#sk-container-id-4 div.sk-label label {font-family: monospace;font-weight: bold;display: inline-block;line-height: 1.2em;}#sk-container-id-4 div.sk-label-container {text-align: center;}#sk-container-id-4 div.sk-container {/* jupyter's `normalize.less` sets `[hidden] { display: none; }` but bootstrap.min.css set `[hidden] { display: none !important; }` so we also need the `!important` here to be able to override the default hidden behavior on the sphinx rendered scikit-learn.org. See: https://github.com/scikit-learn/scikit-learn/issues/21755 */display: inline-block !important;position: relative;}#sk-container-id-4 div.sk-text-repr-fallback {display: none;}</style><div id=\"sk-container-id-4\" class=\"sk-top-container\"><div class=\"sk-text-repr-fallback\"><pre>GradientBoostingClassifier()</pre><b>In a Jupyter environment, please rerun this cell to show the HTML representation or trust the notebook. <br />On GitHub, the HTML representation is unable to render, please try loading this page with nbviewer.org.</b></div><div class=\"sk-container\" hidden><div class=\"sk-item\"><div class=\"sk-estimator sk-toggleable\"><input class=\"sk-toggleable__control sk-hidden--visually\" id=\"sk-estimator-id-4\" type=\"checkbox\" checked><label for=\"sk-estimator-id-4\" class=\"sk-toggleable__label sk-toggleable__label-arrow\">GradientBoostingClassifier</label><div class=\"sk-toggleable__content\"><pre>GradientBoostingClassifier()</pre></div></div></div></div></div>"
      ],
      "text/plain": [
       "GradientBoostingClassifier()"
      ]
     },
     "execution_count": 112,
     "metadata": {},
     "output_type": "execute_result"
    }
   ],
   "source": [
    "# to fit the Gradient boosting model to training resampled data\n",
    "gb_model.fit(X_train_res, y_train_res)"
   ]
  },
  {
   "cell_type": "code",
   "execution_count": 113,
   "id": "9c3a2929",
   "metadata": {},
   "outputs": [],
   "source": [
    "# to predict on the X test data\n",
    "gb_pred = gb_model.predict(scaled_X_test)"
   ]
  },
  {
   "cell_type": "code",
   "execution_count": 114,
   "id": "e10be58f",
   "metadata": {},
   "outputs": [
    {
     "name": "stdout",
     "output_type": "stream",
     "text": [
      "[[114545  13979]\n",
      " [   539   8271]]\n",
      "\n",
      "\n",
      "              precision    recall  f1-score   support\n",
      "\n",
      "          No       1.00      0.89      0.94    128524\n",
      "         Yes       0.37      0.94      0.53      8810\n",
      "\n",
      "    accuracy                           0.89    137334\n",
      "   macro avg       0.68      0.92      0.74    137334\n",
      "weighted avg       0.96      0.89      0.91    137334\n",
      "\n"
     ]
    }
   ],
   "source": [
    "print(confusion_matrix(y_test,gb_pred))\n",
    "print('\\n')\n",
    "print(classification_report(y_test,gb_pred)) # Gradient Boosting model has achieved 89% accuracy"
   ]
  },
  {
   "cell_type": "code",
   "execution_count": null,
   "id": "f37edca2",
   "metadata": {},
   "outputs": [],
   "source": []
  }
 ],
 "metadata": {
  "kernelspec": {
   "display_name": "Python 3 (ipykernel)",
   "language": "python",
   "name": "python3"
  },
  "language_info": {
   "codemirror_mode": {
    "name": "ipython",
    "version": 3
   },
   "file_extension": ".py",
   "mimetype": "text/x-python",
   "name": "python",
   "nbconvert_exporter": "python",
   "pygments_lexer": "ipython3",
   "version": "3.11.5"
  }
 },
 "nbformat": 4,
 "nbformat_minor": 5
}
